{
 "cells": [
  {
   "cell_type": "code",
   "execution_count": 34,
   "metadata": {},
   "outputs": [],
   "source": [
    "from analysis_utils import image2stack\n",
    "from glob import glob\n",
    "from tifffile import imwrite\n",
    "\n",
    "import matplotlib.pyplot as plt\n",
    "import numpy as np\n",
    "import os\n",
    "import pandas as pd"
   ]
  },
  {
   "cell_type": "code",
   "execution_count": null,
   "metadata": {},
   "outputs": [
    {
     "name": "stdout",
     "output_type": "stream",
     "text": [
      "/home/wrx/Data_WF/WF_WRX/H1/20250305/DOM\n"
     ]
    }
   ],
   "source": [
    "# root_path = '/home/wrx/Data_WF/WF_WRX/'\n",
    "root_path = '/home/wrx/Data_DOM/Widefield'\n",
    "\n",
    "mouse_id = 'H1'\n",
    "date = '20250305'\n",
    "treatment = 'DOM'\n",
    "\n",
    "treatment_folder = os.path.join(root_path, mouse_id, date, treatment)\n",
    "print(treatment_folder)"
   ]
  },
  {
   "cell_type": "code",
   "execution_count": 36,
   "metadata": {},
   "outputs": [],
   "source": [
    "from analysis_utils import cal_velocity"
   ]
  },
  {
   "cell_type": "code",
   "execution_count": 37,
   "metadata": {},
   "outputs": [
    {
     "name": "stdout",
     "output_type": "stream",
     "text": [
      "/home/wrx/Data_WF/WF_WRX/H1/20250305/DOM/20250305-113138.csv\n",
      "event-frame-rate: 100\n"
     ]
    }
   ],
   "source": [
    "even_path = glob(os.path.join(treatment_folder, '*-??????.csv'))[0]\n",
    "print(even_path)\n",
    "even_data = pd.read_csv(even_path, header=None).values\n",
    "n_tif = len(os.listdir(glob(os.path.join(treatment_folder, '*-470'))[0]))\n",
    "event_frame_rate = np.round(len(even_data) / n_tif).astype(int)\n",
    "print('event-frame-rate:', event_frame_rate)"
   ]
  },
  {
   "cell_type": "code",
   "execution_count": 38,
   "metadata": {},
   "outputs": [],
   "source": [
    "velocity = cal_velocity(even_data, step=100, window=1000)"
   ]
  },
  {
   "cell_type": "code",
   "execution_count": 39,
   "metadata": {},
   "outputs": [
    {
     "data": {
      "text/plain": [
       "0.0"
      ]
     },
     "execution_count": 39,
     "metadata": {},
     "output_type": "execute_result"
    }
   ],
   "source": [
    "velocity.sum()"
   ]
  }
 ],
 "metadata": {
  "kernelspec": {
   "display_name": "wfield",
   "language": "python",
   "name": "python3"
  },
  "language_info": {
   "codemirror_mode": {
    "name": "ipython",
    "version": 3
   },
   "file_extension": ".py",
   "mimetype": "text/x-python",
   "name": "python",
   "nbconvert_exporter": "python",
   "pygments_lexer": "ipython3",
   "version": "3.11.9"
  }
 },
 "nbformat": 4,
 "nbformat_minor": 2
}
