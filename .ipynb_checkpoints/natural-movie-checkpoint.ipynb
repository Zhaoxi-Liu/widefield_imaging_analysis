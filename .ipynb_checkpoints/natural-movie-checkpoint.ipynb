{
 "cells": [
  {
   "cell_type": "code",
   "execution_count": 14,
   "id": "initial_id",
   "metadata": {
    "collapsed": true,
    "ExecuteTime": {
     "end_time": "2024-01-08T07:12:15.213085300Z",
     "start_time": "2024-01-08T07:12:15.180370500Z"
    }
   },
   "outputs": [],
   "source": [
    "from wfield_utils import *\n",
    "from wfield import *\n",
    "from rf68_utils import *\n",
    "from scipy.ndimage import gaussian_filter, median_filter\n"
   ]
  },
  {
   "cell_type": "code",
   "execution_count": 2,
   "outputs": [],
   "source": [
    "path_wfield = r'Y:\\WF_VC_liuzhaoxi\\24.01.03_C83\\natural-movie\\process\\20240103-131221-wfield'\n",
    "experiment = os.path.basename(path_wfield)[:15]\n",
    "rawPath = pjoin(path_wfield, '..\\\\..\\\\raw')\n",
    "path_out = pjoin(path_wfield, '..', experiment + '-natural-movie')\n",
    "os.makedirs(path_out, exist_ok=True)\n"
   ],
   "metadata": {
    "collapsed": false,
    "ExecuteTime": {
     "end_time": "2024-01-08T04:34:16.301874800Z",
     "start_time": "2024-01-08T04:34:16.213402500Z"
    }
   },
   "id": "16d581b91b29666e"
  },
  {
   "cell_type": "code",
   "execution_count": 3,
   "outputs": [],
   "source": [
    "U = np.load(pjoin(path_wfield, 'U.npy')).astype('float32')\n",
    "SVTcorr = np.load(pjoin(path_wfield, 'SVTcorr.npy')).astype('float32')\n",
    "frames_average = np.load(pjoin(path_wfield, 'frames_average.npy')).astype('float32')\n",
    "trialfile = pd.read_csv(pjoin(path_wfield, 'trials.csv'), header=None).values.astype(int)\n",
    "movie_list = pd.read_csv(r'D:\\Zhaoxi\\mouse_vision\\code\\WF\\movie_list.txt', header=None).values\n"
   ],
   "metadata": {
    "collapsed": false,
    "ExecuteTime": {
     "end_time": "2024-01-08T04:35:13.300496700Z",
     "start_time": "2024-01-08T04:34:57.702471200Z"
    }
   },
   "id": "fd26725fa21a4128"
  },
  {
   "cell_type": "code",
   "execution_count": 4,
   "outputs": [],
   "source": [
    "def sorting_NatMov(SVT, trials_onset, n_movie, movie_len):\n",
    "    nSVD = SVT.shape[0]\n",
    "    n_trials = trials_onset.size\n",
    "    n_rep = n_trials//n_movie\n",
    "    \n",
    "    SVT_sorted = np.zeros((nSVD, movie_len, n_movie, n_rep))\n",
    "    for i_trial in range(n_trials):\n",
    "        SVT_sorted[:nSVD, :movie_len, i_trial//n_movie , i_trial%n_rep] = SVT[:, trials_onset[i_trial]:trials_onset[i_trial] + movie_len]\n",
    "\n",
    "    return SVT_sorted.astype('float32')"
   ],
   "metadata": {
    "collapsed": false,
    "ExecuteTime": {
     "end_time": "2024-01-08T06:54:17.537208700Z",
     "start_time": "2024-01-08T06:54:17.523299200Z"
    }
   },
   "id": "57f65c0097b0ab8c"
  },
  {
   "cell_type": "code",
   "execution_count": 11,
   "outputs": [
    {
     "name": "stdout",
     "output_type": "stream",
     "text": [
      "SVTcorr_sort.shape: (nSVD, movie_len, n_movie, n_rep)  (200, 150, 12, 5)\n"
     ]
    }
   ],
   "source": [
    "# SVTcorr_sort维度：[nSVD, movie_len, n_movie, n_rep]\n",
    "movie_len = 150 #帧\n",
    "n_movie = movie_list.size\n",
    "SVTcorr_sort = sorting_NatMov(SVTcorr, trialfile[:, 1], n_movie, movie_len).astype('float32')\n",
    "print('SVTcorr_sort.shape: (nSVD, movie_len, n_movie, n_rep) ', SVTcorr_sort.shape)"
   ],
   "metadata": {
    "collapsed": false,
    "ExecuteTime": {
     "end_time": "2024-01-08T06:59:21.307396800Z",
     "start_time": "2024-01-08T06:59:21.264992300Z"
    }
   },
   "id": "6e4455098cb66186"
  },
  {
   "cell_type": "code",
   "execution_count": 12,
   "outputs": [],
   "source": [
    "width, height = U.shape[0:2]\n",
    "\n",
    "# tif_sort维度：[width, height, movie_len, n_movie, n_rep]\n",
    "tif_sort = np.tensordot(U, SVTcorr_sort, axes=(2, 0)).astype('float32')\n",
    "# imwrite(pjoin(path_wfield,'loc1-ave.tif'),tif_sort[:,:,:,0,-1].transpose(2,0,1).astype('float32'), imagej=True)"
   ],
   "metadata": {
    "collapsed": false,
    "ExecuteTime": {
     "end_time": "2024-01-08T07:05:29.644828200Z",
     "start_time": "2024-01-08T07:04:40.044401400Z"
    }
   },
   "id": "45420c9fcfde2d3b"
  },
  {
   "cell_type": "code",
   "execution_count": 13,
   "outputs": [
    {
     "name": "stderr",
     "output_type": "stream",
     "text": [
      "D:\\Zhaoxi\\mouse_vision\\code\\WF\\wfield_utils.py:67: RuntimeWarning: invalid value encountered in divide\n",
      "  snr = np.nanvar(np.nanmean(x, axis=axis1), axis=axis2) / np.nanmean(np.nanvar(x, axis=axis1), axis=axis2)\n"
     ]
    },
    {
     "ename": "NameError",
     "evalue": "name 'amp_plot' is not defined",
     "output_type": "error",
     "traceback": [
      "\u001B[1;31m---------------------------------------------------------------------------\u001B[0m",
      "\u001B[1;31mNameError\u001B[0m                                 Traceback (most recent call last)",
      "Cell \u001B[1;32mIn[13], line 4\u001B[0m\n\u001B[0;32m      2\u001B[0m pixel_snr \u001B[38;5;241m=\u001B[39m np\u001B[38;5;241m.\u001B[39mmax(snr, axis\u001B[38;5;241m=\u001B[39m\u001B[38;5;241m2\u001B[39m)\n\u001B[0;32m      3\u001B[0m \u001B[38;5;66;03m# pixel_snr_filter = median_filter(pixel_snr,1)\u001B[39;00m\n\u001B[1;32m----> 4\u001B[0m amp_plot(pixel_snr, cmap\u001B[38;5;241m=\u001B[39m\u001B[38;5;124m'\u001B[39m\u001B[38;5;124mhot\u001B[39m\u001B[38;5;124m'\u001B[39m, title\u001B[38;5;241m=\u001B[39m\u001B[38;5;124m'\u001B[39m\u001B[38;5;124mnatural-movie_snr\u001B[39m\u001B[38;5;124m'\u001B[39m, path_out\u001B[38;5;241m=\u001B[39mpath_out)\n",
      "\u001B[1;31mNameError\u001B[0m: name 'amp_plot' is not defined"
     ]
    }
   ],
   "source": [
    "snr = cal_snr(tif_sort, axis1=4, axis2=2)\n",
    "pixel_snr = np.max(snr, axis=2)\n",
    "# pixel_snr_filter = median_filter(pixel_snr,1)\n",
    "amp_plot(pixel_snr, cmap='hot', title='natural-movie_snr', path_out=path_out)\n",
    "# imwrite(pjoin(path_out, 'rf68_snr.tif'), pixel_snr.astype('float32'), imagej=True)"
   ],
   "metadata": {
    "collapsed": false,
    "ExecuteTime": {
     "end_time": "2024-01-08T07:11:33.227099200Z",
     "start_time": "2024-01-08T07:06:15.647365400Z"
    }
   },
   "id": "56705c42507a7fb9"
  },
  {
   "cell_type": "code",
   "execution_count": 15,
   "outputs": [
    {
     "data": {
      "text/plain": "<Figure size 500x500 with 2 Axes>",
      "image/png": "[encoded data removed]"
     },
     "metadata": {},
     "output_type": "display_data"
    }
   ],
   "source": [
    "amp_plot(pixel_snr, cmap='hot', title='natural-movie_snr', path_out=path_out)\n"
   ],
   "metadata": {
    "collapsed": false,
    "ExecuteTime": {
     "end_time": "2024-01-08T07:12:41.430071100Z",
     "start_time": "2024-01-08T07:12:40.698214100Z"
    }
   },
   "id": "125179f3fe90f6e6"
  },
  {
   "cell_type": "code",
   "execution_count": null,
   "outputs": [],
   "source": [],
   "metadata": {
    "collapsed": false
   },
   "id": "993d5aea6ec059cc"
  }
 ],
 "metadata": {
  "kernelspec": {
   "display_name": "Python 3",
   "language": "python",
   "name": "python3"
  },
  "language_info": {
   "codemirror_mode": {
    "name": "ipython",
    "version": 2
   },
   "file_extension": ".py",
   "mimetype": "text/x-python",
   "name": "python",
   "nbconvert_exporter": "python",
   "pygments_lexer": "ipython2",
   "version": "2.7.6"
  }
 },
 "nbformat": 4,
 "nbformat_minor": 5
}
