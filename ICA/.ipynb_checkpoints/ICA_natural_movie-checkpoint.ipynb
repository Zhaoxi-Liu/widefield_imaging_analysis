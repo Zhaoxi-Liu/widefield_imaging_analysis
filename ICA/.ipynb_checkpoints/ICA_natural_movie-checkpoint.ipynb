{
 "cells": [
  {
   "cell_type": "code",
   "execution_count": 1,
   "id": "38c76b7385e239c9",
   "metadata": {
    "collapsed": false,
    "jupyter": {
     "outputs_hidden": false
    }
   },
   "outputs": [],
   "source": [
    "from jadeR import jadeR\n",
    "import pandas as pd\n",
    "from wfield import *\n"
   ]
  },
  {
   "cell_type": "code",
   "execution_count": 2,
   "id": "2288b0f0faa2038f",
   "metadata": {
    "collapsed": false,
    "jupyter": {
     "outputs_hidden": false
    }
   },
   "outputs": [],
   "source": [
    "# %% set path and parameter\n",
    "path_wfield = r'/home/lzx/data/WF_VC_liuzhaoxi/P73/20240718/natural-movie/process/20240718-170059-wfield'\n",
    "experiment = os.path.basename(path_wfield)[:15]\n",
    "path_out = pjoin(path_wfield, '..', experiment + '-natural-movie', 'ICA')\n",
    "os.makedirs(path_out, exist_ok=True)\n",
    "rawPath = pjoin(path_wfield, '../../raw')\n",
    "movie_folder = pjoin(rawPath, 'natural_movies')\n",
    "movie_list = pd.read_csv(pjoin(movie_folder, 'movie_list.txt'), header=None).values\n",
    "n_movie = movie_list.size\n",
    "movie_name_list = []\n",
    "for imovie in range(n_movie):\n",
    "    movie_name_list.append(str(movie_list[imovie])[2:-6])\n",
    "\n",
    "n_frame = 150  # 帧\n"
   ]
  },
  {
   "cell_type": "code",
   "execution_count": 3,
   "id": "72dd37beeadb361a",
   "metadata": {
    "collapsed": false,
    "jupyter": {
     "outputs_hidden": false
    }
   },
   "outputs": [],
   "source": [
    "# load wfield data\n",
    "U = np.load(pjoin(path_wfield, 'U.npy')).astype('float32')\n",
    "SVTcorr = np.load(pjoin(path_wfield, 'SVTcorr.npy')).astype('float32')\n",
    "tif_corr = reconstruct(U, SVTcorr)\n"
   ]
  },
  {
   "cell_type": "code",
   "execution_count": null,
   "id": "90d9f9ddebf94dae",
   "metadata": {
    "collapsed": false,
    "jupyter": {
     "outputs_hidden": false
    }
   },
   "outputs": [
    {
     "name": "stdout",
     "output_type": "stream",
     "text": [
      "ICA dim: (18998, 262144)\n",
      "jade -> Looking for 50 sources\n",
      "jade -> Removing the mean value\n",
      "jade -> Whitening the data\n",
      "jade -> Estimating cumulant matrices\n"
     ]
    },
    {
     "name": "stderr",
     "output_type": "stream",
     "text": [
      "/home/lzx/data/WF_VC_liuzhaoxi/code/WF/ICA/jadeR.py:209: ComplexWarning: Casting complex values to real discards the imaginary part\n",
      "  CM[:,Range] = Qij\n",
      "/home/lzx/data/WF_VC_liuzhaoxi/code/WF/ICA/jadeR.py:215: ComplexWarning: Casting complex values to real discards the imaginary part\n",
      "  CM[:,Range]\t= Qij\n"
     ]
    }
   ],
   "source": [
    "n_IC = 50\n",
    "X = tif_corr.reshape(SVTcorr.shape[-1], -1)\n",
    "print('ICA dim:', X.shape)\n",
    "\n",
    "demix_matrix = jadeR(X, m=n_IC, verbose=True)\n",
    "IC = demix_matrix * X\n",
    "IC_array = np.asarray(IC).reshape(n_IC, *U.shape[:-1])\n",
    "mix_matrix = np.linalg.pinv(demix_matrix)\n",
    "\n",
    "np.save(pjoin(path_out, 'spatial_IC.npy'), IC_array)\n",
    "np.save(pjoin(path_out, 'IC_timecourse(mix_matrix).npy'), mix_matrix)\n",
    "print('save ICA matrix')\n",
    "\n",
    "\n",
    "def zscore(matrix, axis=0):\n",
    "    mean = np.mean(matrix, axis=axis)\n",
    "    std = np.std(matrix, axis=axis)\n",
    "    zscore_matrix = (matrix - mean) / std\n",
    "    return zscore_matrix\n",
    "\n",
    "\n",
    "IC_z = zscore(IC, axis=0)\n",
    "IC_arrayz = np.asarray(IC_z).reshape(n_IC, *U.shape[:-1])\n",
    "\n",
    "IC_arrayz_cut = np.copy(IC_arrayz)\n",
    "IC_arrayz_cut[np.abs(IC_arrayz_cut) < 2.2] = 0\n",
    "# IC_arrayz_cut[np.abs(IC_arrayz_cut) >= 2.5] = 1"
   ]
  },
  {
   "cell_type": "code",
   "execution_count": 14,
   "id": "dd38f4a2eeea4e62",
   "metadata": {
    "collapsed": false,
    "jupyter": {
     "outputs_hidden": false
    }
   },
   "outputs": [],
   "source": [
    "from wfield import *\n",
    "\n",
    "lmarks = load_allen_landmarks(pjoin(path_wfield, 'dorsal_cortex_landmarks.json'))\n",
    "ccf_regions_reference, proj, brain_outline = allen_load_reference('dorsal_cortex')\n",
    "# this loads the untransformed atlas\n",
    "atlas_im, areanames, brain_mask = atlas_from_landmarks_file(pjoin(path_wfield, 'dorsal_cortex_landmarks.json'),\n",
    "                                                            do_transform=True)\n",
    "# this converts the reference to image space (unwarped)\n",
    "ccf_regions_im = allen_transform_regions(lmarks['transform'], ccf_regions_reference,\n",
    "                                         resolution=lmarks['resolution'],\n",
    "                                         bregma_offset=lmarks['bregma_offset'])\n"
   ]
  },
  {
   "cell_type": "code",
   "execution_count": null,
   "id": "7af0c0569cbd5dc",
   "metadata": {
    "collapsed": false,
    "jupyter": {
     "outputs_hidden": false
    }
   },
   "outputs": [],
   "source": [
    "frames_ave = np.load(pjoin(path_wfield, 'frames_average.npy'))[0]\n",
    "merge_frame_size = (512, 512)  # (width, height)\n",
    "fig = plt.figure(figsize=(merge_frame_size[0] / 128, merge_frame_size[1] / 128), dpi=128)\n",
    "plt.imshow(frames_ave, cmap='gray')\n",
    "for i, r in ccf_regions_im.iterrows():\n",
    "    plt.plot(r['left_x'], r['left_y'], 'r', lw=0.2)\n",
    "    plt.plot(r['right_x'], r['right_y'], 'r', lw=0.2)\n",
    "    plt.text(r.left_center[0], r.left_center[1], r.acronym, color='w', va='center', fontsize=3, alpha=0.5, ha='center')\n",
    "\n",
    "plt.axis('off')\n",
    "fig.set_facecolor('white')\n",
    "# plt.savefig(pjoin(path_out, 'ccf.png'), bbox_inches='tight', pad_inches=0)\n",
    "plt.show()\n"
   ]
  },
  {
   "cell_type": "code",
   "execution_count": null,
   "id": "e79edd062e057589",
   "metadata": {
    "collapsed": false,
    "jupyter": {
     "outputs_hidden": false
    }
   },
   "outputs": [],
   "source": [
    "nrow = 5\n",
    "ncol = 10\n",
    "dpi = 200\n",
    "\n",
    "fig, ax = plt.subplots(nrow, ncol, figsize=(U.shape[0] / dpi * ncol, U.shape[1] / dpi * nrow), dpi=dpi)\n",
    "for irow in range(nrow):\n",
    "    for icol in range(ncol):\n",
    "        iIC = irow * ncol + icol\n",
    "        ax[irow, icol].imshow(frames_ave, cmap='gray')\n",
    "        img = ax[irow, icol].imshow(IC_arrayz_cut[iIC], cmap='coolwarm', vmax=4, vmin=-4, alpha=0.3)\n",
    "        ax[irow, icol].set_title('IC{}'.format(iIC + 1), fontsize=10)\n",
    "        ax[irow, icol].axis('off')\n",
    "\n",
    "        for idx, r in ccf_regions_im.iterrows():\n",
    "            ax[irow, icol].plot(r['left_x'], r['left_y'], 'k', lw=0.2)\n",
    "            ax[irow, icol].plot(r['right_x'], r['right_y'], 'k', lw=0.2)\n",
    "            ax[irow, icol].text(r.left_center[0], r.left_center[1], r.acronym, color='k', va='center', fontsize=2,\n",
    "                                alpha=0.5,\n",
    "                                ha='center')\n",
    "        fig.colorbar(img)\n",
    "\n",
    "fig.set_facecolor('white')\n",
    "plt.tight_layout()\n",
    "plt.savefig(pjoin(path_out, 'IC.png'), bbox_inches='tight', pad_inches=0)\n",
    "plt.show()\n"
   ]
  }
 ],
 "metadata": {
  "kernelspec": {
   "display_name": "Python 3 (ipykernel)",
   "language": "python",
   "name": "python3"
  },
  "language_info": {
   "codemirror_mode": {
    "name": "ipython",
    "version": 3
   },
   "file_extension": ".py",
   "mimetype": "text/x-python",
   "name": "python",
   "nbconvert_exporter": "python",
   "pygments_lexer": "ipython3",
   "version": "3.11.9"
  }
 },
 "nbformat": 4,
 "nbformat_minor": 5
}
