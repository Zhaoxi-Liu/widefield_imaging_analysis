{
 "cells": [
  {
   "cell_type": "code",
   "execution_count": 2,
   "id": "a6f79afe-d8f6-4b6c-b2db-089fbcd0a61a",
   "metadata": {
    "ExecuteTime": {
     "end_time": "2024-05-20T20:08:49.468663300Z",
     "start_time": "2024-05-20T20:08:47.593011200Z"
    },
    "scrolled": true,
    "tags": []
   },
   "outputs": [],
   "source": [
    "%matplotlib inline\n",
    "import os\n",
    "from os.path import join as pjoin\n",
    "from tifffile import imread, imwrite, TiffFile\n",
    "import numpy as np\n",
    "import shutil\n",
    "import matplotlib.pyplot as plt\n",
    "from glob import glob\n",
    "import pandas as pd\n",
    "import cv2\n",
    "from tqdm import tqdm\n",
    "import subprocess\n",
    "from wf_utils import filename2int, log_progress\n",
    "# from wfield_utils import *\n",
    "# from multi_load_images import *\n"
   ]
  },
  {
   "cell_type": "code",
   "execution_count": 3,
   "id": "3851050c4b56f40d",
   "metadata": {
    "ExecuteTime": {
     "end_time": "2024-05-20T20:09:25.202091Z",
     "start_time": "2024-05-20T20:09:25.140742200Z"
    }
   },
   "outputs": [
    {
     "name": "stdout",
     "output_type": "stream",
     "text": [
      "All the file path:\n",
      "['/home/wrx/Data_WF/WF_VC_liuzhaoxi/P73/20240718/checkerboard-bar', '/home/wrx/Data_WF/WF_VC_liuzhaoxi/P73/20240718/looming', '/home/wrx/Data_WF/WF_VC_liuzhaoxi/P73/20240718/moving-bar_wrx', '/home/wrx/Data_WF/WF_VC_liuzhaoxi/P73/20240718/moving-dots', '/home/wrx/Data_WF/WF_VC_liuzhaoxi/P73/20240718/natural-movie', '/home/wrx/Data_WF/WF_VC_liuzhaoxi/P73/20240718/natural-movie-reverse', '/home/wrx/Data_WF/WF_VC_liuzhaoxi/P73/20240718/retinotopy', '/home/wrx/Data_WF/WF_VC_liuzhaoxi/P73/20240718/RF46']\n"
     ]
    }
   ],
   "source": [
    "### Set the file path\n",
    "\n",
    "# path_0: including one-day recording files\n",
    "# path_1: including every stimuli\n",
    "# path_0 = r\"/home/lzx/data/WF_VC_liuzhaoxi/P76/20240718\"\n",
    "path_0 = r\"/home/wrx/Data_WF/WF_VC_liuzhaoxi/P73/20240718\"\n",
    "path_1_ = os.listdir(path_0)\n",
    "# 筛选出文件夹\n",
    "path_1 = [folder for folder in path_1_ if os.path.isdir(pjoin(path_0, folder))]\n",
    "path_all = []\n",
    "for path in path_1:\n",
    "    path_all.append(pjoin(path_0, path))\n",
    "\n",
    "print('All the file path:\\n'+str(path_all))\n"
   ]
  },
  {
   "cell_type": "code",
   "execution_count": null,
   "id": "f86a1322-209e-48f6-a216-f060ab3c6fcd",
   "metadata": {
    "collapsed": false,
    "jupyter": {
     "outputs_hidden": false
    }
   },
   "outputs": [],
   "source": [
    "# ### re-organize files\n",
    "\n",
    "# for path in path_all:\n",
    "#     if not os.path.exists(pjoin(path, 'raw')):\n",
    "#         os.mkdir(pjoin(path, 'raw'))\n",
    "#     if not os.path.exists(pjoin(path, 'process/')):\n",
    "#         os.mkdir(pjoin(path, 'process/'))\n",
    "        \n",
    "# for path in path_all:\n",
    "#     files = glob(pjoin(path, '202?????-??????*'))\n",
    "#     for file in files:\n",
    "#         shutil.move(file, pjoin(path, 'raw', os.path.basename(file)))\n",
    "#         print('moving',file)\n",
    "\n",
    "# print('Moving raw data folders all finished!')\n"
   ]
  },
  {
   "cell_type": "code",
   "execution_count": null,
   "id": "c8491c63",
   "metadata": {},
   "outputs": [],
   "source": [
    "### generate 2-channel tif stack\n",
    "\n",
    "def organize_tif(folder_path):\n",
    "    folder_name = os.path.basename(folder_path)\n",
    "    if os.path.exists(folder_path+'.tif'):\n",
    "        print('importing {}.tif'.format(folder_path))\n",
    "        image_stack = imread(folder_path+'.tif')\n",
    "        print('finish importing {}.tif'.format(folder_path))\n",
    "    else:\n",
    "        image_path_ls = glob(pjoin(folder_path, '*.tif'))\n",
    "        image_path_ls = sorted(image_path_ls, key = filename2int) # 确保图像帧按顺序排列\n",
    "        image_stack = [imread(tiff) for tiff in log_progress(image_path_ls, name=folder_name)]  # 将多帧tif堆叠成数组\n",
    "        # image_stack = multi_load_images(image_path_ls, n_thread=20)\n",
    "    # rotated_images = [cv2.rotate(frame, cv2.ROTATE_90_CLOCKWISE) for frame in image_stack]   # 顺时针旋转图像90度\n",
    "    # 计算并保存均值数据\n",
    "    mean_values = [np.mean(frame) for frame in image_stack]\n",
    "    output_value = pjoin(processPath, folder_name + \"-Values.csv\")\n",
    "    np.savetxt(output_value, mean_values, delimiter=\",\")\n",
    "    \n",
    "    return np.array(image_stack)\n",
    "\n",
    "\n",
    "for path in [path_all[0]]:\n",
    "    print(\"Path: \"+ path)\n",
    "    rawPath = pjoin(path, \"raw\")\n",
    "    processPath = pjoin(path, \"process\")\n",
    "    # 列出experiments\n",
    "    items = glob(pjoin(rawPath, '202?????-??????-4*'))\n",
    "    experiments = list(set([os.path.basename(item)[:15] for item in items]))\n",
    "    print(\"experiments:\")\n",
    "    print(experiments)\n",
    "    \n",
    "    # 遍历每个experiment，merge channel\n",
    "    for experiment in experiments:\n",
    "        os.makedirs(pjoin(processPath, experiment+\"-wfield\"), exist_ok=True)\n",
    "        mergePath = pjoin(processPath, experiment+\"-wfield\")\n",
    "        merge_file = pjoin(mergePath, experiment+\"-merged.tif\")\n",
    "        # if not os.path.exists(merge_file):\n",
    "        tif_405 = organize_tif(pjoin(rawPath, experiment + \"-405\"))\n",
    "        tif_470 = organize_tif(pjoin(rawPath, experiment + \"-470\"))\n",
    "        tif_405_path = pjoin(mergePath, experiment + \"-405.tif\")\n",
    "        tif_470_path = pjoin(mergePath, experiment + \"-470.tif\")\n",
    "            # 检查两个通道的深度是否一致\n",
    "            # if tif_405.shape[0] != tif_470.shape[0]:\n",
    "            #     n_frames = min(tif_405.shape[0], tif_470.shape[0])\n",
    "            #     tif_405 = tif_405[:n_frames]\n",
    "            #     tif_470 = tif_470[:n_frames]\n",
    "            # 将Tiff stack的数据从三维变成四维，不同通道使用第二维区分\n",
    "            # merged_tif = np.concatenate((tif_470[:, np.newaxis], tif_405[:, np.newaxis]), axis=1)\n",
    "            # 将合并后的图像保存为一个2通道Tiff图像\n",
    "            # imwrite(merge_file, merged_tif)\n",
    "        imwrite(tif_405_path, tif_405)\n",
    "        imwrite(tif_470_path, tif_470)\n",
    "                        \n",
    "        # else: print(\"merged \"+experiment+\" has existed\")\n",
    "        # plotFluor(path, experiment)\n",
    "        \n",
    "    mean_values_405 = pjoin(path, \"process\", '{}-405-Values.csv'.format(experiment))\n",
    "    mean_values_470 = pjoin(path, \"process\", '{}-470-Values.csv'.format(experiment))\n",
    "    # read data from csv file as numpy array\n",
    "    mean_values_405 = np.loadtxt(mean_values_405, delimiter=',')\n",
    "    mean_values_470 = np.loadtxt(mean_values_470, delimiter=',')\n",
    "\n",
    "    fig, ax = plt.subplots(figsize=(20, 5))\n",
    "    ax.plot(mean_values_405, label='405')\n",
    "    ax.plot(mean_values_470, label='470')\n",
    "    ax.legend()\n",
    "    plt.show()\n",
    "    \n",
    "# print(\"All merging finished!\")\n"
   ]
  },
  {
   "cell_type": "markdown",
   "id": "71004ee0",
   "metadata": {},
   "source": [
    "Check and replace outliers"
   ]
  },
  {
   "cell_type": "code",
   "execution_count": 41,
   "id": "cbb79814",
   "metadata": {},
   "outputs": [
    {
     "data": {
      "text/plain": [
       "'/home/wrx/Data_WF/WF_VC_liuzhaoxi/P73/20240718/retinotopy'"
      ]
     },
     "execution_count": 41,
     "metadata": {},
     "output_type": "execute_result"
    }
   ],
   "source": [
    "path_all[6]"
   ]
  },
  {
   "cell_type": "code",
   "execution_count": 42,
   "id": "62ad415b",
   "metadata": {},
   "outputs": [
    {
     "name": "stdout",
     "output_type": "stream",
     "text": [
      "Path: /home/wrx/Data_WF/WF_VC_liuzhaoxi/P73/20240718/retinotopy\n",
      "experiments:\n",
      "['20240718-161348']\n"
     ]
    },
    {
     "data": {
      "image/png": "[encoded data removed]",
      "text/plain": [
       "<Figure size 2000x500 with 1 Axes>"
      ]
     },
     "metadata": {
      "needs_background": "light"
     },
     "output_type": "display_data"
    }
   ],
   "source": [
    "for path in [path_all[6]]:\n",
    "    print(\"Path: \"+ path)\n",
    "    rawPath = pjoin(path, \"raw\")\n",
    "    processPath = pjoin(path, \"process\")\n",
    "    # 列出experiments\n",
    "    items = glob(pjoin(rawPath, '202?????-??????-4*'))\n",
    "    experiments = list(set([os.path.basename(item)[:15] for item in items]))\n",
    "    print(\"experiments:\")\n",
    "    print(experiments)\n",
    "    \n",
    "    # 遍历每个experiment，merge channel\n",
    "    for experiment in experiments:\n",
    "\n",
    "        values_405_path = pjoin(path, \"process\", '{}-405-Values.csv'.format(experiment))\n",
    "        values_470_path = pjoin(path, \"process\", '{}-470-Values.csv'.format(experiment))\n",
    "        # read data from csv file as numpy array\n",
    "        mean_values_405 = np.loadtxt(values_405_path, delimiter=',')\n",
    "        mean_values_470 = np.loadtxt(values_470_path, delimiter=',')\n",
    "\n",
    "        fig, ax = plt.subplots(figsize=(20, 5))\n",
    "        ax.plot(mean_values_405, label='405')\n",
    "        ax.plot(mean_values_470, label='470')\n",
    "        ax.legend()\n",
    "        plt.show()"
   ]
  },
  {
   "cell_type": "code",
   "execution_count": 43,
   "id": "52c2bde0",
   "metadata": {},
   "outputs": [
    {
     "name": "stdout",
     "output_type": "stream",
     "text": [
      "[5764 5765 5766 5767 5768 5769]\n",
      "[]\n"
     ]
    }
   ],
   "source": [
    "outlier_405 = mean_values_405 < np.mean(mean_values_405)*0.3\n",
    "outlier_index_405 = np.where(outlier_405)[0]\n",
    "print(outlier_index_405)\n",
    "\n",
    "outlier_470 = mean_values_470 < np.mean(mean_values_470)*0.3\n",
    "outlier_index_470 = np.where(outlier_470)[0]\n",
    "print(outlier_index_470)"
   ]
  },
  {
   "cell_type": "code",
   "execution_count": 44,
   "id": "38393089",
   "metadata": {},
   "outputs": [
    {
     "name": "stdout",
     "output_type": "stream",
     "text": [
      "Outliers detected!\n",
      "Outliers in 405:  [5764 5765 5766 5767 5768 5769]\n",
      "Outliers in 470:  []\n",
      "/home/wrx/Data_WF/WF_VC_liuzhaoxi/P73/20240718/retinotopy/process/20240718-161348-wfield/20240718-161348-merged.tif\n",
      "Reading the merged tif file...\n",
      "Saving the merged tif file...\n"
     ]
    },
    {
     "name": "stderr",
     "output_type": "stream",
     "text": [
      "/home/wrx/.conda/envs/wfield/lib/python3.11/site-packages/tifffile/tifffile.py:1569: UserWarning: <tifffile.TiffWriter '20240718-161348-merged.tif'> writing nonconformant BigTIFF ImageJ\n",
      "  warnings.warn(\n"
     ]
    }
   ],
   "source": [
    "if len(outlier_index_405) > 0 or len(outlier_index_470) > 0:\n",
    "    print('Outliers detected!')\n",
    "    print('Outliers in 405: ', outlier_index_405)\n",
    "    print('Outliers in 470: ', outlier_index_470)\n",
    "    mergePath = pjoin(processPath, experiment+\"-wfield\")\n",
    "\n",
    "    merge_file = pjoin(mergePath, experiment+\"-merged.tif\")\n",
    "    print(merge_file)\n",
    "\n",
    "    print('Reading the merged tif file...')\n",
    "    images = imread(merge_file)\n",
    "\n",
    "    if len(outlier_470) > 0:\n",
    "        # replace the outlier images with the mean of the previous and next images\n",
    "        for i in outlier_index_470:\n",
    "            images[i, 0, :, :] = images[outlier_index_470[0]-1, 0, :, :]\n",
    "\n",
    "    if len(outlier_405) > 0:\n",
    "        # replace the outlier images with the mean of the previous and next images\n",
    "        for i in outlier_index_405:\n",
    "            images[i, 1, :, :] = images[outlier_index_405[0]-1, 1, :, :]\n",
    "\n",
    "    print('Saving the merged tif file...')\n",
    "    imwrite(merge_file, images, imagej=True, bigtiff=True)\n",
    "\n",
    "# for test\n",
    "# images = imread(merge_file, key=outlier_index_405*2+1)"
   ]
  },
  {
   "cell_type": "code",
   "execution_count": 61,
   "id": "df52258b",
   "metadata": {},
   "outputs": [],
   "source": [
    "from ipywidgets import interact\n",
    "\n",
    "def display_wrapper(images):\n",
    "    def display_images(frame):\n",
    "    \n",
    "        plt.figure(figsize=(6, 6))\n",
    "        plt.imshow(images[frame], cmap='gray')\n",
    "        plt.axis('off')\n",
    "        plt.show()\n",
    "\n",
    "    frame_slider = interact(display_images, frame=(0, len(images)-1, 1))\n",
    "    display(frame_slider)\n",
    "\n",
    "# display_wrapper(images)"
   ]
  },
  {
   "cell_type": "markdown",
   "id": "8834b60f",
   "metadata": {},
   "source": [
    "prepressing data"
   ]
  },
  {
   "cell_type": "code",
   "execution_count": 5,
   "id": "b95b6708",
   "metadata": {},
   "outputs": [
    {
     "name": "stdout",
     "output_type": "stream",
     "text": [
      "All the wfield-path:\n",
      "/home/wrx/Data_WF/WF_VC_liuzhaoxi/P73/20240718/checkerboard-bar/process/20240718-162936-wfield\n",
      "/home/wrx/Data_WF/WF_VC_liuzhaoxi/P73/20240718/looming/process/20240718-181900-wfield\n",
      "/home/wrx/Data_WF/WF_VC_liuzhaoxi/P73/20240718/moving-bar_wrx/process/20240718-164038-wfield\n",
      "/home/wrx/Data_WF/WF_VC_liuzhaoxi/P73/20240718/moving-dots/process/20240718-182235-wfield\n",
      "/home/wrx/Data_WF/WF_VC_liuzhaoxi/P73/20240718/natural-movie/process/20240718-170059-wfield\n",
      "/home/wrx/Data_WF/WF_VC_liuzhaoxi/P73/20240718/natural-movie-reverse/process/20240718-173530-wfield\n",
      "/home/wrx/Data_WF/WF_VC_liuzhaoxi/P73/20240718/retinotopy/process/20240718-161348-wfield\n",
      "/home/wrx/Data_WF/WF_VC_liuzhaoxi/P73/20240718/RF46/process/20240718-164748-wfield\n"
     ]
    }
   ],
   "source": [
    "path_wfield_all = glob(pjoin(path_0, '*/process/*-wfield'))\n",
    "print('All the wfield-path:\\n'+\"\\n\".join(path_wfield_all))"
   ]
  },
  {
   "cell_type": "code",
   "execution_count": 8,
   "id": "01361bd3",
   "metadata": {},
   "outputs": [
    {
     "name": "stdout",
     "output_type": "stream",
     "text": [
      "generate trials.csv of 20240718-162936\n",
      "\n",
      "All generation of trials-file finished!\n"
     ]
    },
    {
     "name": "stderr",
     "output_type": "stream",
     "text": [
      "/tmp/ipykernel_11244/3234507067.py:18: DeprecationWarning: Conversion of an array with ndim > 0 to a scalar is deprecated, and will error in future. Ensure you extract a single element from your array before performing this operation. (Deprecated NumPy 1.25.)\n",
      "  stim_delay = int(stim_delay[0]/10)\n"
     ]
    }
   ],
   "source": [
    "### 生成trial_onsets.npy\n",
    "\n",
    "n_movie_rep = 5\n",
    "\n",
    "for path_wfield in [path_wfield_all[0]]:\n",
    "    \n",
    "    experiment = os.path.basename(path_wfield)[:15]\n",
    "    rawPath = pjoin(path_wfield,'../../raw')\n",
    "    merge_file = pjoin(path_wfield, experiment+\"-merged.tif\")\n",
    "    n_frames = len(TiffFile(merge_file).pages)//2\n",
    "\n",
    "    if os.path.exists(pjoin(rawPath, experiment + \".csv\")):\n",
    "        # generate trial_onsets.npy\n",
    "        # trial_onsets.npy is a Nx3 array. The columns are: trial number, onset of the trial (frame index), offset of the trial.\n",
    "        if not os.path.exists(pjoin(path_wfield, 'trials.csv')):\n",
    "            stimfile = pd.read_csv(pjoin(rawPath, experiment + \".csv\"), header=None).values\n",
    "            stim_delay = pd.read_csv(pjoin(rawPath, experiment + \"-470Timestamp.csv\"), header=None).values\n",
    "            stim_delay = int(stim_delay[0]/10)\n",
    "            \n",
    "            stim = np.zeros(n_frames)\n",
    "            for i in range(n_frames):\n",
    "                stim[i] = stimfile[(i * 10 + stim_delay), 0]\n",
    "            single_0_indices = np.where((np.diff(np.append(stim, 0)) == 1) & (np.diff(stim, prepend=0) == -1))[0]\n",
    "            single_1_indices = np.where((np.diff(np.append(stim, 0)) == -1) & (np.diff(stim, prepend=0) == 1))[0]\n",
    "            stim[single_1_indices] = 0\n",
    "            stim[single_0_indices] = 1\n",
    "            \n",
    "            onset = np.where(np.diff(stim) == 1)[0] + 1\n",
    "            offset = np.where(np.diff(stim) == -1)[0] + 1\n",
    "            trials_csv = np.stack((np.arange(len(onset)), onset, offset, offset-onset), axis=1)  # 这个用来自己检查一下以及自己后续分析\n",
    "            np.savetxt(pjoin(path_wfield, \"trials.csv\"), trials_csv, delimiter=\",\")\n",
    "            print(\"generate trials.csv of \"+experiment)\n",
    "            \n",
    "            if 'retinotopy' in path_wfield:\n",
    "                trial_onsets = np.stack((np.arange(len(onset)), onset - 30, offset), axis=1)  # 这个文件给wfield软件做SVD用\n",
    "                np.save(pjoin(path_wfield, 'trial_onsets.npy'), trial_onsets)\n",
    "            \n",
    "            elif 'natural-movie' in path_wfield:\n",
    "                n_movie = len(onset)//n_movie_rep\n",
    "                trial_onsets = np.empty((n_movie,3))\n",
    "                for i in range(n_movie):\n",
    "                    trial_onsets[i] = [i, onset[i*n_movie_rep] - 100, offset[i*n_movie_rep]]\n",
    "                np.save(pjoin(path_wfield, 'trial_onsets.npy'), trial_onsets)   # 这个文件给wfield软件做SVD用\n",
    "            # elif 'speed' in path_wfield:\n",
    "            #     trial_onsets = [0, onset[0] - 100, offset[0]]\n",
    "            #     np.save(pjoin(path_wfield, 'trial_onsets.npy'), trial_onsets)   # 这个文件给wfield软件做SVD用\n",
    "        else: print(\"trials.csv of \"+experiment+\" has existed\")\n",
    "\n",
    "    else: print(experiment, 'without stim-file, skip')\n",
    "            \n",
    "print(\"\\nAll generation of trials-file finished!\")\n"
   ]
  },
  {
   "cell_type": "markdown",
   "id": "21656a48",
   "metadata": {},
   "source": [
    "Computes baseline"
   ]
  },
  {
   "cell_type": "code",
   "execution_count": 21,
   "id": "ed20cbda",
   "metadata": {},
   "outputs": [
    {
     "data": {
      "text/plain": [
       "'/home/wrx/Data_WF/WF_VC_liuzhaoxi/P73/20240718/retinotopy/process/20240718-161348-wfield'"
      ]
     },
     "execution_count": 21,
     "metadata": {},
     "output_type": "execute_result"
    }
   ],
   "source": [
    "path_wfield_all[6]"
   ]
  },
  {
   "cell_type": "code",
   "execution_count": 23,
   "id": "3ccd8476",
   "metadata": {},
   "outputs": [
    {
     "name": "stdout",
     "output_type": "stream",
     "text": [
      "reading tif file: /home/wrx/Data_WF/WF_VC_liuzhaoxi/P73/20240718/retinotopy/process/20240718-161348-wfield/20240718-161348-merged.tif\n",
      "(7942, 2, 512, 512)\n"
     ]
    }
   ],
   "source": [
    "tif_path = glob(pjoin(path_wfield_all[6],'*.tif'))[0]\n",
    "print('reading tif file:', tif_path)\n",
    "dat = imread(tif_path)\n",
    "print(dat.shape)"
   ]
  },
  {
   "cell_type": "code",
   "execution_count": 56,
   "id": "e19fa157",
   "metadata": {},
   "outputs": [],
   "source": [
    "def frames_average_for_trials(dat,onsets,nbaseline_frames):\n",
    "    # from .utils import runpar\n",
    "    if hasattr(dat,'filename'):\n",
    "        dims = dims = dat.shape[1:]\n",
    "        dat_path = dat.filename\n",
    "        frames_average = runpar(compute_trial_baseline_from_binary,onsets,\n",
    "                                filename = dat_path,\n",
    "                                shape=dims,\n",
    "                                nbaseline_frames=nbaseline_frames,\n",
    "                                dtype = dat.dtype)\n",
    "    else:\n",
    "        frame_averages = []\n",
    "        for on in tqdm(onsets):\n",
    "            frame_averages.append(dat[on:on+nbaseline_frames].mean(axis=0))\n",
    "    return np.stack(frame_averages)"
   ]
  },
  {
   "cell_type": "code",
   "execution_count": 58,
   "id": "c0b08471",
   "metadata": {},
   "outputs": [
    {
     "name": "stderr",
     "output_type": "stream",
     "text": [
      "100%|██████████| 40/40 [00:01<00:00, 28.46it/s]\n"
     ]
    }
   ],
   "source": [
    "trial_onsets = np.load(pjoin(path_wfield_all[6], 'trial_onsets.npy')).astype(int)\n",
    "frames_average_trials = frames_average_for_trials(dat,\n",
    "                                           trial_onsets[:,2],\n",
    "                                           nbaseline_frames)\n",
    "# Compute the average of all trials and save it\n",
    "np.save(pjoin(path_wfield_all[6],'frames_average.npy'),frames_average_trials.mean(axis=0))"
   ]
  },
  {
   "cell_type": "code",
   "execution_count": 64,
   "id": "ee69fb85",
   "metadata": {},
   "outputs": [
    {
     "data": {
      "application/vnd.jupyter.widget-view+json": {
       "model_id": "31108847889a4878a35d1bd666e9d16a",
       "version_major": 2,
       "version_minor": 0
      },
      "text/plain": [
       "interactive(children=(IntSlider(value=19, description='frame', max=39), Output()), _dom_classes=('widget-inter…"
      ]
     },
     "metadata": {},
     "output_type": "display_data"
    },
    {
     "data": {
      "text/plain": [
       "<function __main__.display_wrapper.<locals>.display_images(frame)>"
      ]
     },
     "metadata": {},
     "output_type": "display_data"
    }
   ],
   "source": [
    "display_wrapper(frames_average_trials[:, 0, :, :])"
   ]
  },
  {
   "cell_type": "markdown",
   "id": "54e55bc9",
   "metadata": {},
   "source": [
    "Approximate single value decomposition"
   ]
  },
  {
   "cell_type": "code",
   "execution_count": 30,
   "id": "9b7f1ca4",
   "metadata": {},
   "outputs": [],
   "source": [
    "from wfield import approximate_svd"
   ]
  },
  {
   "cell_type": "code",
   "execution_count": 65,
   "id": "6ee1ae45",
   "metadata": {},
   "outputs": [
    {
     "name": "stderr",
     "output_type": "stream",
     "text": [
      "Binning raw data: 100%|██████████| 264/264 [00:27<00:00,  9.63it/s]\n",
      "Computing SVT from the raw data: 100%|██████████| 16/16 [00:26<00:00,  1.65s/it]\n"
     ]
    }
   ],
   "source": [
    "U,SVT = approximate_svd(dat, frames_average_trials.mean(axis=0))\n",
    "np.save(pjoin(path_wfield_all[6],'U.npy'),U)\n",
    "np.save(pjoin(path_wfield_all[6],'SVT.npy'),SVT)"
   ]
  },
  {
   "cell_type": "markdown",
   "id": "bbfe3445",
   "metadata": {},
   "source": [
    "Hemodynamic correction"
   ]
  },
  {
   "cell_type": "code",
   "execution_count": 1,
   "id": "bf0ff262",
   "metadata": {},
   "outputs": [],
   "source": [
    "import time\n",
    "from wfield import hemodynamic_correction"
   ]
  },
  {
   "cell_type": "code",
   "execution_count": 66,
   "id": "08b9daf7",
   "metadata": {},
   "outputs": [
    {
     "name": "stdout",
     "output_type": "stream",
     "text": [
      "Skipping lowpass on the violet channel.\n",
      "Done hemodynamic correction in 97.80299282073975 s \n"
     ]
    }
   ],
   "source": [
    "tstart = time.time()\n",
    "\n",
    "fs = 10\n",
    "SVT_470 = SVT[:,0::2]\n",
    "t = np.arange(SVT.shape[1]) # interpolate the violet\n",
    "from scipy.interpolate import interp1d\n",
    "SVT_405 = interp1d(t[1::2],SVT[:,1::2],axis=1,\n",
    "                    fill_value='extrapolate')(t[0::2])\n",
    "SVTcorr, rcoeffs, T = hemodynamic_correction(U, \n",
    "                                             SVT_470, \n",
    "                                             SVT_405, \n",
    "                                             fs=fs,\n",
    "                                             freq_lowpass=10)  \n",
    "\n",
    "print('Done hemodynamic correction in {0} s '.format(time.time()-tstart))\n",
    "\n",
    "np.save(pjoin(path_wfield_all[6],'rcoeffs.npy'),rcoeffs)\n",
    "np.save(pjoin(path_wfield_all[6],'T.npy'),T)\n",
    "np.save(pjoin(path_wfield_all[6],'SVTcorr.npy'),SVTcorr)"
   ]
  },
  {
   "cell_type": "code",
   "execution_count": 9,
   "id": "d473fba5",
   "metadata": {},
   "outputs": [
    {
     "name": "stdout",
     "output_type": "stream",
     "text": [
      "Start analyze /home/wrx/Data_WF/WF_VC_liuzhaoxi/P73/20240718/checkerboard-bar/process/20240718-162936-wfield\n",
      "！！！Error occured when analyzing /home/wrx/Data_WF/WF_VC_liuzhaoxi/P73/20240718/checkerboard-bar/process/20240718-162936-wfield \n",
      "\n",
      "\n",
      "Motion correction, single value decomposition, hemodynamic correction. All finished!\n"
     ]
    }
   ],
   "source": [
    "for path_wfield in [path_wfield_all[0]]:\n",
    "    if len(glob(pjoin(path_wfield, '*-merged.tif'))) == 0:\n",
    "        print(path_wfield,\"can't find merged tiff file！\\n\")\n",
    "    elif len(glob(pjoin(path_wfield, '*-merged.tif'))) > 1:\n",
    "        print(path_wfield,\"exist multiple merged tiff file！\\n\")\n",
    "    elif os.path.exists(pjoin(path_wfield, 'SVTcorr.npy')):\n",
    "        print(path_wfield,'analysis has been finished！\\n')\n",
    "    else:\n",
    "        print('Start analyze',path_wfield)\n",
    "        if 'natural-movie' or 'speed' in path_wfield:\n",
    "            nbaseline_frames = 100\n",
    "        else:\n",
    "            nbaseline_frames = 30\n",
    "        command = \"wfield preprocess --nchannels 2 --nbaseline-frames {} --functional-channel 0 --fs 10 -o {} {}\".format(nbaseline_frames,path_wfield,path_wfield)\n",
    "        logfile = pjoin(path_wfield, 'log.txt')\n",
    "        with open(logfile, \"w\") as log:\n",
    "            result = subprocess.run(command, shell=True, stdout=subprocess.PIPE, stderr=subprocess.STDOUT, text=True)\n",
    "            log.write(result.stdout)\n",
    "        if result.returncode == 0:\n",
    "            print('Finish analyzing',path_wfield,'\\n')\n",
    "        else:\n",
    "            print('！！！Error occured when analyzing',path_wfield,'\\n')\n",
    "        \n",
    "print('\\nMotion correction, single value decomposition, hemodynamic correction. All finished!')"
   ]
  }
 ],
 "metadata": {
  "kernelspec": {
   "display_name": "Python 3 (ipykernel)",
   "language": "python",
   "name": "python3"
  },
  "language_info": {
   "codemirror_mode": {
    "name": "ipython",
    "version": 3
   },
   "file_extension": ".py",
   "mimetype": "text/x-python",
   "name": "python",
   "nbconvert_exporter": "python",
   "pygments_lexer": "ipython3",
   "version": "undefined.undefined.undefined"
  }
 },
 "nbformat": 4,
 "nbformat_minor": 5
}
