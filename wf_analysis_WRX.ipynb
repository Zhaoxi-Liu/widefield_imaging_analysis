{
 "cells": [
  {
   "cell_type": "code",
   "execution_count": 2,
   "id": "a6f79afe-d8f6-4b6c-b2db-089fbcd0a61a",
   "metadata": {
    "ExecuteTime": {
     "end_time": "2024-05-20T20:08:49.468663300Z",
     "start_time": "2024-05-20T20:08:47.593011200Z"
    },
    "scrolled": true,
    "tags": []
   },
   "outputs": [],
   "source": [
    "%matplotlib inline\n",
    "from analysis_utils import display_wrapper, organize_tif, plot_onset_index, rotate_crop_array\n",
    "from analysis_utils import cal_velocity\n",
    "from glob import glob\n",
    "from os.path import join as pjoin\n",
    "from pprint import pprint\n",
    "from scipy.ndimage import rotate\n",
    "from tifffile import imread, imwrite, TiffFile\n",
    "from tqdm import tqdm\n",
    "from wf_utils import filename2int, log_progress\n",
    "from wfield.io import frames_average_for_trials, mmap_dat, TiffStack\n",
    "from wfield import approximate_svd\n",
    "\n",
    "import cv2, os, shutil, subprocess, time\n",
    "import matplotlib.pyplot as plt\n",
    "import numpy as np\n",
    "import pandas as pd"
   ]
  },
  {
   "cell_type": "markdown",
   "id": "f7b81f70",
   "metadata": {},
   "source": [
    "Parameter setting"
   ]
  },
  {
   "cell_type": "code",
   "execution_count": 4,
   "id": "3851050c4b56f40d",
   "metadata": {
    "ExecuteTime": {
     "end_time": "2024-05-20T20:09:25.202091Z",
     "start_time": "2024-05-20T20:09:25.140742200Z"
    }
   },
   "outputs": [
    {
     "name": "stdout",
     "output_type": "stream",
     "text": [
      "/home/wrx/Data_WF/WF_WRX/Q39/20240829_saline\n",
      "All the file path:\n",
      "\n",
      "['/home/wrx/Data_WF/WF_WRX/Q39/20240829_saline/1_Spontaneous',\n",
      " '/home/wrx/Data_WF/WF_WRX/Q39/20240829_saline/2_Retinotopy',\n",
      " '/home/wrx/Data_WF/WF_WRX/Q39/20240829_saline/3_Movingbar',\n",
      " '/home/wrx/Data_WF/WF_WRX/Q39/20240829_saline/4_SalienceGrating',\n",
      " '/home/wrx/Data_WF/WF_WRX/Q39/20240829_saline/5_SalienceMovingGrating',\n",
      " '/home/wrx/Data_WF/WF_WRX/Q39/20240829_saline/6_Looming',\n",
      " '/home/wrx/Data_WF/WF_WRX/Q39/20240829_saline/7_NatureMovie']\n"
     ]
    }
   ],
   "source": [
    "plot_test = True\n",
    "# Set the file path\n",
    "root_path = '/home/wrx/Data_WF/WF_WRX/'\n",
    "mice_id = 'Q39'\n",
    "treat = '20240829_saline'\n",
    "path_0 = pjoin(root_path, mice_id, treat)\n",
    "# path_0 = '/home/wrx/Data_WF/WF_VC_liuzhaoxi/24.07.18_P73'\n",
    "print(path_0)\n",
    "\n",
    "path_1_ = os.listdir(path_0)\n",
    "# 筛选出文件夹\n",
    "path_1 = [folder for folder in path_1_ if os.path.isdir(pjoin(path_0, folder))]\n",
    "path_all = []\n",
    "for path in path_1:\n",
    "    path_all.append(pjoin(path_0, path))\n",
    "\n",
    "print('All the file path:\\n')\n",
    "pprint(path_all)"
   ]
  },
  {
   "cell_type": "markdown",
   "id": "f33b09d3",
   "metadata": {},
   "source": [
    "Re-organize files"
   ]
  },
  {
   "cell_type": "code",
   "execution_count": 4,
   "id": "f86a1322-209e-48f6-a216-f060ab3c6fcd",
   "metadata": {
    "collapsed": false,
    "jupyter": {
     "outputs_hidden": false
    }
   },
   "outputs": [
    {
     "name": "stdout",
     "output_type": "stream",
     "text": [
      "Moving raw data folders all finished!\n"
     ]
    }
   ],
   "source": [
    "# only run this cell once\n",
    "for path in path_all:\n",
    "    if not os.path.exists(pjoin(path, 'raw')):\n",
    "        os.mkdir(pjoin(path, 'raw'))\n",
    "    if not os.path.exists(pjoin(path, 'process/')):\n",
    "        os.mkdir(pjoin(path, 'process/'))\n",
    "        \n",
    "for path in path_all:\n",
    "    files = glob(pjoin(path, '202?????-??????*'))\n",
    "    for file in files:\n",
    "        shutil.move(file, pjoin(path, 'raw', os.path.basename(file)))\n",
    "        print('moving',file)\n",
    "\n",
    "print('Moving raw data folders all finished!')\n"
   ]
  },
  {
   "cell_type": "markdown",
   "id": "bb6f46e8",
   "metadata": {},
   "source": [
    "Set the crop and rotate parameters"
   ]
  },
  {
   "cell_type": "code",
   "execution_count": null,
   "id": "6c2b37b1",
   "metadata": {},
   "outputs": [],
   "source": [
    "# use this to check wheather the images need rotation and the suitable angle,\n",
    "# and the coordinates of ROI to crop the raw images\n",
    "\n",
    "# select the first tif image of 470nm channel of the first experiment as the reference image\n",
    "image_ref = imread(glob(pjoin(path_all[0], 'raw/*-470/1.tif'))[0])\n",
    "\n",
    "# rotate iamge by pre-defined angle using scipy.ndimage.rotate\n",
    "# rotate the images is time-consuming, so we skip rotate the images by setting angle=0\n",
    "angle = 0 # if clockwise, use negative angle, otherwise positive\n",
    "left, top, width, height = 38, 65, 450, 380\n",
    "cropped_image = rotate_crop_array(image_ref, angle=angle, left=left, top=top, width=width, height=height)\n",
    "\n",
    "fig, axs = plt.subplots(1, 2, figsize=(16, 8))\n",
    "axs[0].imshow(image_ref, cmap='hot', aspect='equal')\n",
    "axs[0].set_title('original image')\n",
    "axs[0].grid()\n",
    "axs[1].imshow(cropped_image, cmap='hot', aspect='equal')\n",
    "axs[1].set_title('cropped image')\n",
    "axs[1].grid()\n",
    "plt.show()"
   ]
  },
  {
   "cell_type": "code",
   "execution_count": null,
   "id": "c8491c63",
   "metadata": {},
   "outputs": [],
   "source": [
    "### generate 2-channel tif stack\n",
    "\n",
    "for path in [path_all[1]]:\n",
    "    print(\"Path: \"+ path)\n",
    "    rawPath = pjoin(path, \"raw\")\n",
    "    processPath = pjoin(path, \"process\")\n",
    "    stim_name = path.split('/')[-1]\n",
    "    # 列出experiments\n",
    "    items = glob(pjoin(rawPath, '202?????-??????-4*'))\n",
    "    experiments = list(set([os.path.basename(item)[:15] for item in items]))\n",
    "    print(\"experiments:\")\n",
    "    print(experiments)\n",
    "    \n",
    "    # 遍历每个experiment，merge channel\n",
    "    for experiment in experiments:\n",
    "        os.makedirs(pjoin(processPath, experiment+\"-wfield\"), exist_ok=True)\n",
    "        mergePath = pjoin(processPath, experiment+\"-wfield\")\n",
    "        merge_file = pjoin(mergePath, experiment+\"-merged.tif\")\n",
    "        if not os.path.exists(merge_file):\n",
    "            tif_405 = organize_tif(pjoin(rawPath, experiment + \"-405\"), save_path=processPath)\n",
    "            tif_405 = rotate_crop_array(tif_405, angle=angle, left=left, top=top, width=width, height=height)\n",
    "            tif_470 = organize_tif(pjoin(rawPath, experiment + \"-470\"), save_path=processPath)\n",
    "            tif_470 = rotate_crop_array(tif_470, angle=angle, left=left, top=top, width=width, height=height)\n",
    "            # tif_405_path = pjoin(mergePath, experiment + \"-405.tif\")\n",
    "            # tif_470_path = pjoin(mergePath, experiment + \"-470.tif\")\n",
    "            # 检查两个通道的深度是否一致\n",
    "            if tif_405.shape[0] != tif_470.shape[0]:\n",
    "                n_frames = min(tif_405.shape[0], tif_470.shape[0])\n",
    "                tif_405 = tif_405[:n_frames]\n",
    "                tif_470 = tif_470[:n_frames]\n",
    "            # 将Tiff stack的数据从三维变成四维，不同通道使用第二维区分\n",
    "            merged_tif = np.concatenate((tif_470[:, np.newaxis], tif_405[:, np.newaxis]), axis=1)\n",
    "            # 将合并后的图像保存为一个2通道Tiff图像\n",
    "            print(\"saving merged tif of \"+ experiment)\n",
    "            imwrite(merge_file, merged_tif, imagej=True, bigtiff=True)\n",
    "        # imwrite(tif_405_path, tif_405)\n",
    "        # imwrite(tif_470_path, tif_470)\n",
    "                        \n",
    "        # else: print(\"merged \"+experiment+\" has existed\")\n",
    "        # plotFluor(path, experiment)\n",
    "        \n",
    "    mean_values_405 = pjoin(path, \"process\", '{}-405-Values.csv'.format(experiment))\n",
    "    mean_values_470 = pjoin(path, \"process\", '{}-470-Values.csv'.format(experiment))\n",
    "    # read data from csv file as numpy array\n",
    "    mean_values_405 = np.loadtxt(mean_values_405, delimiter=',')\n",
    "    mean_values_470 = np.loadtxt(mean_values_470, delimiter=',')\n",
    "\n",
    "    fig, ax = plt.subplots(figsize=(20, 5))\n",
    "    ax.plot(mean_values_405, label='405')\n",
    "    ax.plot(mean_values_470, label='470')\n",
    "    ax.legend()\n",
    "    plt.title(stim_name)\n",
    "    plt.show()\n",
    "    \n",
    "# print(\"All merging finished!\")"
   ]
  },
  {
   "cell_type": "code",
   "execution_count": null,
   "id": "e1f29b3f",
   "metadata": {},
   "outputs": [],
   "source": [
    "# images to movie for hehavioral data\n",
    "path = path_all[1]\n",
    "rawPath = pjoin(path, \"raw\")\n",
    "processPath = pjoin(path, \"process\")\n",
    "items = glob(pjoin(rawPath, '202?????-??????-4*'))\n",
    "experiment = list(set([os.path.basename(item)[:15] for item in items]))\n",
    "print(\"experiments:\", experiment)\n",
    "mergePath = pjoin(processPath, experiment[0]+\"-wfield\")\n",
    "event_file = pjoin(mergePath, experiment[0]+\"-event.tif\")\n",
    "print(\"event file:\", event_file)\n",
    "if not os.path.exists(event_file):\n",
    "    tif_event = organize_tif(pjoin(rawPath, experiment[0] + \"-event\"))\n",
    "    # imwrite(event_file, tif_event)"
   ]
  },
  {
   "cell_type": "markdown",
   "id": "9f3d6981",
   "metadata": {},
   "source": [
    "Onset and offset detection"
   ]
  },
  {
   "cell_type": "code",
   "execution_count": 5,
   "id": "a39a99f7",
   "metadata": {},
   "outputs": [
    {
     "name": "stdout",
     "output_type": "stream",
     "text": [
      "['/home/wrx/Data_WF/WF_WRX/Q39/20240829_saline/1_Spontaneous/process/20240829-160641-wfield',\n",
      " '/home/wrx/Data_WF/WF_WRX/Q39/20240829_saline/2_Retinotopy/process/20240829-163749-wfield',\n",
      " '/home/wrx/Data_WF/WF_WRX/Q39/20240829_saline/3_Movingbar/process/20240829-165104-wfield',\n",
      " '/home/wrx/Data_WF/WF_WRX/Q39/20240829_saline/4_SalienceGrating/process/20240829-165723-wfield',\n",
      " '/home/wrx/Data_WF/WF_WRX/Q39/20240829_saline/5_SalienceMovingGrating/process/20240829-170313-wfield',\n",
      " '/home/wrx/Data_WF/WF_WRX/Q39/20240829_saline/6_Looming/process/20240829-171746-wfield',\n",
      " '/home/wrx/Data_WF/WF_WRX/Q39/20240829_saline/7_NatureMovie/process/20240829-172407-wfield']\n"
     ]
    }
   ],
   "source": [
    "path_wfield_all = glob(pjoin(path_0, '*/process/*-wfield'))\n",
    "pprint(path_wfield_all)"
   ]
  },
  {
   "cell_type": "code",
   "execution_count": null,
   "id": "269679a2",
   "metadata": {},
   "outputs": [],
   "source": [
    "# to generate the trials.csv and trial_onsets.npy for the wfield software\n",
    "\n",
    "n_movie_rep = 5\n",
    "frame_rate = 10 # Hz\n",
    "\n",
    "velocity_ls = []\n",
    "\n",
    "for path_wfield in [path_wfield_all[1]]:\n",
    "    stim_name = path_wfield.split('/')[-3]\n",
    "    experiment = os.path.basename(path_wfield)[:15]\n",
    "    rawPath = pjoin(path_wfield,'../../raw')\n",
    "    merge_file = pjoin(path_wfield, experiment+\"-merged.tif\")\n",
    "    # n_frames = len(TiffFile(merge_file).pages)//2\n",
    "\n",
    "    # generate trial_onsets.npy\n",
    "    # trial_onsets.npy is a Nx4 array.\n",
    "    csv_path = pjoin(path_wfield, 'trials.csv')\n",
    "    print(csv_path)\n",
    "\n",
    "    even_data = pd.read_csv(pjoin(rawPath, experiment + \".csv\"), header=None).values\n",
    "    n_tif = len(os.listdir(glob(pjoin(rawPath, '*-470'))[0]))\n",
    "    event_frame_rate = np.round(len(even_data) / n_tif).astype(int)\n",
    "    onset_frame_index = np.round((np.where(np.diff(even_data[:, 0]) == 1)[0] + 1) / event_frame_rate).astype(int)\n",
    "    offset_frame_index = np.round((np.where(np.diff(even_data[:, 0]) == -1)[0] + 1) / event_frame_rate).astype(int)\n",
    "\n",
    "    # Calculate the velocity of the encoder, only for event_frame_rate=100\n",
    "    if event_frame_rate == 100:\n",
    "        velocity = cal_velocity(even_data)\n",
    "        velocity_ls.append(velocity)\n",
    "\n",
    "    # the interval between two onsets less than 1s may be false onset\n",
    "    false_onset = np.where(np.diff(onset_frame_index) < 10)[0] + 1\n",
    "    onset_frame_index = np.delete(onset_frame_index, false_onset) # delete the false onset\n",
    "    offset_frame_index = np.delete(offset_frame_index, false_onset)\n",
    "\n",
    "    if 'SalienceGrating' in stim_name or 'SalienceMovingGrating' in stim_name:\n",
    "        # For those two stimulus, the first onset of the stimlus in this list should ignore,\n",
    "        # because the first onset without stimuli, just the start of the experiment\n",
    "        onset_frame_index = onset_frame_index[1:]\n",
    "        offset_frame_index = offset_frame_index[1:]\n",
    "\n",
    "    plot_onset_index(onset_frame_index, title=stim_name) # to check the onset of the trials\n",
    "    # stim_delay = pd.read_csv(pjoin(rawPath, experiment + \"-470Timestamp.csv\"), header=None).values\n",
    "    # stim_delay = int(stim_delay[0]/10)\n",
    "    \n",
    "    # stim = np.zeros(n_frames)\n",
    "    # for i in range(n_frames):\n",
    "    #     stim[i] = stimfile[(i * 10 + stim_delay), 0]\n",
    "    # single_0_indices = np.where((np.diff(np.append(stim, 0)) == 1) & (np.diff(stim, prepend=0) == -1))[0]\n",
    "    # single_1_indices = np.where((np.diff(np.append(stim, 0)) == -1) & (np.diff(stim, prepend=0) == 1))[0]\n",
    "    # # stim[single_1_indices] = 0\n",
    "    # # stim[single_0_indices] = 1\n",
    "    \n",
    "    if np.diff(onset_frame_index).min() < 10: # the minimum interval between two onsets is less than 10 frames\n",
    "        raise ValueError(\"The minimum interval between two onsets is less than 1s, please check the stim-file)\")\n",
    "    \n",
    "    trials_csv = np.stack((np.arange(len(onset_frame_index)), onset_frame_index, offset_frame_index, \n",
    "                        offset_frame_index-onset_frame_index), axis=1)  # 这个用来自己检查一下以及自己后续分析\n",
    "    # np.savetxt(pjoin(path_wfield, \"trials.csv\"), trials_csv, delimiter=\",\")\n",
    "    print(\"generate trials.csv of \"+experiment)\n",
    "    \n",
    "    # if 'Retinotopy' in path_wfield:\n",
    "    #     trial_onsets = np.stack((np.arange(len(onset_frame_index)), onset_frame_index-30, offset_frame_index), axis=1)  # 这个文件给wfield软件做SVD用\n",
    "    #     # np.save(pjoin(path_wfield, 'trial_onsets.npy'), trial_onsets)\n",
    "    \n",
    "    # elif 'natural-movie' in path_wfield:\n",
    "    #     n_movie = len(onset_frame_index)//n_movie_rep\n",
    "    #     trial_onsets = np.empty((n_movie,3))\n",
    "    #     for i in range(n_movie):\n",
    "    #         trial_onsets[i] = [i, onset_frame_index[i*n_movie_rep]-100, offset_frame_index[i*n_movie_rep]]\n",
    "        # np.save(pjoin(path_wfield, 'trial_onsets.npy'), trial_onsets)   # 这个文件给wfield软件做SVD用\n",
    "    # elif 'speed' in path_wfield:\n",
    "    #     trial_onsets = [0, onset_frame_index[0] - 100, offset_frame_index[0]]\n",
    "    #     np.save(pjoin(path_wfield, 'trial_onsets.npy'), trial_onsets)   # 这个文件给wfield软件做SVD用\n",
    "            \n",
    "print(\"\\nAll generation of trials-file finished!\")"
   ]
  },
  {
   "cell_type": "code",
   "execution_count": null,
   "id": "71feb4e9",
   "metadata": {},
   "outputs": [],
   "source": [
    "if 'trials_csv' not in locals():\n",
    "    trials_csv = np.loadtxt(pjoin(path_wfield, 'trials.csv'), delimiter=',')\n",
    "# if 'trial_onsets' not in locals():\n",
    "#     trial_onsets = np.load(pjoin(path_wfield, 'trial_onsets.npy'))"
   ]
  },
  {
   "cell_type": "markdown",
   "id": "ef3931c7",
   "metadata": {},
   "source": [
    "Calculate the velocity of the encoder"
   ]
  },
  {
   "cell_type": "code",
   "execution_count": null,
   "id": "7b9ff2cd",
   "metadata": {},
   "outputs": [],
   "source": [
    "speed = {'measure_interval': measure_interval, 'velocity': velocity}\n",
    "results = {'RT': speed}\n",
    "\n",
    "from inout_utils import h5py_write\n",
    "results_path = pjoin(path_0, 'results.hdf5')\n",
    "print(results_path)\n",
    "h5py_write(results_path, results)"
   ]
  },
  {
   "cell_type": "code",
   "execution_count": null,
   "id": "8c2045fe",
   "metadata": {},
   "outputs": [],
   "source": [
    "fig, ax = plt.subplots(figsize=(20, 3))\n",
    "x = np.arange(0, len(velocity), measure_interval*0.001)\n",
    "print(x.shape, len(velocity))\n",
    "ax.plot(x, velocity)\n",
    "ax.set_xlabel('Time (s)')\n",
    "ax.set_ylabel('Speed (cm/s)')\n",
    "plt.title('Speed of the locomotion')\n",
    "plt.show()"
   ]
  },
  {
   "cell_type": "markdown",
   "id": "38aa8999",
   "metadata": {},
   "source": [
    "Create binary file"
   ]
  },
  {
   "cell_type": "code",
   "execution_count": null,
   "id": "36345aab",
   "metadata": {},
   "outputs": [],
   "source": [
    "path_wfield_all"
   ]
  },
  {
   "cell_type": "code",
   "execution_count": null,
   "id": "8ac13599",
   "metadata": {},
   "outputs": [],
   "source": [
    "for path in [path_wfield_all[1]]:\n",
    "    tif_stack = TiffStack(path, nchannels=2) # set nchannels=1 for our 2 channel tif file\n",
    "    print('The frames of the stack:', tif_stack.shape[0])\n",
    "    if tif_stack.shape[0] == 0:\n",
    "        raise ValueError('The shape of the stack may be wrong!')\n",
    "    tif_stack.export_binary(foldername=path, basename='{}'.format(tif_stack.shape[0]))"
   ]
  },
  {
   "cell_type": "markdown",
   "id": "71004ee0",
   "metadata": {},
   "source": [
    "Check and correct outliers"
   ]
  },
  {
   "cell_type": "code",
   "execution_count": 6,
   "id": "859f6107",
   "metadata": {},
   "outputs": [],
   "source": [
    "from analysis_utils import correct_lum_outliers\n",
    "from analysis_utils import detect_dim_outliers"
   ]
  },
  {
   "cell_type": "code",
   "execution_count": 37,
   "id": "62ad415b",
   "metadata": {},
   "outputs": [
    {
     "name": "stdout",
     "output_type": "stream",
     "text": [
      "Path: /home/wrx/Data_WF/WF_WRX/Q39/20240829_saline/7_NatureMovie\n",
      "experiments: ['20240829-172407']\n"
     ]
    },
    {
     "data": {
      "image/png": "[encoded data removed]",
      "text/plain": [
       "<Figure size 2000x500 with 1 Axes>"
      ]
     },
     "metadata": {
      "needs_background": "light"
     },
     "output_type": "display_data"
    },
    {
     "name": "stdout",
     "output_type": "stream",
     "text": [
      "Outliers detected!\n"
     ]
    }
   ],
   "source": [
    "# detect outliers based on the mean values of 405 and 470 channels,\n",
    "# and correct the outliers by averaging the values of the previous and next frames\n",
    "\n",
    "for path in [path_all[-1]]:\n",
    "    stim_name = os.path.split(path)[-1]\n",
    "    print(\"Path: \"+ path)\n",
    "    rawPath = pjoin(path, \"raw\")\n",
    "    processPath = pjoin(path, \"process\")\n",
    "    \n",
    "    items = glob(pjoin(rawPath, '202?????-??????-4*'))\n",
    "    experiments = list(set([os.path.basename(item)[:15] for item in items]))\n",
    "    print(\"experiments:\", experiments)\n",
    "    \n",
    "    for experiment in experiments:\n",
    "\n",
    "        values_405_path = pjoin(path, \"process\", '{}-405-Values.csv'.format(experiment))\n",
    "        values_470_path = pjoin(path, \"process\", '{}-470-Values.csv'.format(experiment))\n",
    "        # read data from csv file as numpy array\n",
    "        mean_values_405 = np.loadtxt(values_405_path, delimiter=',')\n",
    "        mean_values_470 = np.loadtxt(values_470_path, delimiter=',')\n",
    "        n_frames = min(mean_values_405.shape[0], mean_values_470.shape[0])\n",
    "        mean_values_405 = mean_values_405[:n_frames]\n",
    "        mean_values_470 = mean_values_470[:n_frames]\n",
    "\n",
    "        fig, ax = plt.subplots(figsize=(20, 5))\n",
    "        ax.plot(mean_values_405, label='405', color='k')\n",
    "        ax.plot(mean_values_470, label='470', color='r')\n",
    "        ax.set_xlim(0, len(mean_values_405))\n",
    "        ax.set_xlim(6100, 6200)\n",
    "        # ax.set_ylim(2000, 4000)\n",
    "        # print(outlier_index[1])\n",
    "        # for idx in outlier_index[1]:\n",
    "        #     ax.axvline(x=idx, color='r', linestyle='--')\n",
    "        ax.legend()\n",
    "        plt.title(stim_name)\n",
    "        plt.show()\n",
    "\n",
    "        mean_values = np.concatenate((np.expand_dims(mean_values_470, axis=1), np.expand_dims(mean_values_405, axis=1)), axis=1)\n",
    "        outlier_index_470, outlier_index_405 = detect_dim_outliers(mean_values, lum_thr_coef=0.3, plot=False)\n",
    "\n",
    "        if len(outlier_index_470) > 0 or len(outlier_index_405) > 0:\n",
    "            print(\"Outliers detected!\")\n",
    "            bin_path = glob(pjoin(processPath, experiment+\"-wfield\", '*uint16.bin'))[0]\n",
    "            # correct_lum_outliers(bin_path, outlier_index_470, outlier_index_405, plot=False)"
   ]
  },
  {
   "cell_type": "code",
   "execution_count": 20,
   "id": "45d5dced",
   "metadata": {},
   "outputs": [
    {
     "name": "stdout",
     "output_type": "stream",
     "text": [
      "/home/wrx/Data_WF/WF_WRX/Q39/20240829_saline/7_NatureMovie\n"
     ]
    }
   ],
   "source": [
    "path = path_all[-1]\n",
    "print(path)\n",
    "\n",
    "# mean_values = np.concatenate((mean_values_470[:, np.newaxis], mean_values_405[:, np.newaxis]), axis=1)\n",
    "time_stamp_405 = np.loadtxt(glob(pjoin(path, \"raw\", '*-405Timestamp.csv'))[0], delimiter=',')\n",
    "time_stamp_470 = np.loadtxt(glob(pjoin(path, \"raw\", '*-470Timestamp.csv'))[0], delimiter=',')\n",
    "\n",
    "if not len(time_stamp_405) == len(time_stamp_470):\n",
    "    _len = min(len(time_stamp_405), len(time_stamp_470))\n",
    "    time_stamp_405 = time_stamp_405[:_len]\n",
    "    time_stamp_470 = time_stamp_470[:_len]"
   ]
  },
  {
   "cell_type": "code",
   "execution_count": 21,
   "id": "a0556636",
   "metadata": {},
   "outputs": [
    {
     "name": "stdout",
     "output_type": "stream",
     "text": [
      "(array([6108]), array([], dtype=int64))\n"
     ]
    }
   ],
   "source": [
    "def detect_time_outlier(time_stamp_470, time_stamp_405, time_thr=10):\n",
    "    '''\n",
    "    detect the cross-channel outliers based on the time stamps of 405 and 470 channels\n",
    "    cross-channel: the 405 or 470 channel frames wrongly recoreded.\n",
    "    \n",
    "    '''\n",
    "    diff_time = abs(time_stamp_470 - time_stamp_405)\n",
    "    time_outliers_idx_470 = np.where(diff_time < (50-time_thr))[0]\n",
    "    time_outliers_idx_405 = np.where(diff_time > (50+time_thr))[0] + 1\n",
    "\n",
    "    if time_stamp_470[0] > time_stamp_405[0]: # 470 channel starts first\n",
    "        return time_outliers_idx_470, time_outliers_idx_405\n",
    "    else: # 405 channel starts first\n",
    "        return time_outliers_idx_405, time_outliers_idx_470\n",
    "\n",
    "outlier_index = detect_time_outlier(time_stamp_470, time_stamp_405)\n",
    "print(outlier_index)"
   ]
  },
  {
   "cell_type": "code",
   "execution_count": 38,
   "id": "e3b6fbf3",
   "metadata": {},
   "outputs": [
    {
     "name": "stdout",
     "output_type": "stream",
     "text": [
      "-50.0\n"
     ]
    }
   ],
   "source": [
    "diff_time = time_stamp_470 - time_stamp_405\n",
    "print(diff_time[0])"
   ]
  },
  {
   "cell_type": "code",
   "execution_count": 34,
   "id": "fa0c5db1",
   "metadata": {},
   "outputs": [],
   "source": [
    "def correct_cross_outliers(bin_path, outlier_index_470, outlier_index_405):\n",
    "    '''\n",
    "    Correct the outliers frames in the merged tiff file.\n",
    "    Parameters:\n",
    "        bin_path: string, the path of the bin file.\n",
    "        outlier_index_405: numpy array, the index of the outliers in 405 channel.\n",
    "        outlier_index_470: numpy array, the index of the outliers in 470 channel.\n",
    "    '''\n",
    "\n",
    "    if (outlier_index_470 is not None) or (outlier_index_405 is not None):\n",
    "        print('There are outliers frames need to be corrected!')\n",
    "        bin_name = os.path.splitext(os.path.basename(bin_path))[0]\n",
    "        dtype = bin_name.split('_')[-1]\n",
    "        shape = tuple([int(i) for i in bin_name.split('_')[:-1]])\n",
    "        images = np.memmap(bin_path, dtype=dtype, mode='r+', shape=shape)\n",
    "        if outlier_index_470 is not None:\n",
    "            for i in range(outlier_index_470.shape[0]):\n",
    "                start, end = outlier_index_470[i], outlier_index_470[i] +1\n",
    "                images[start:end, 0, :, :] = (images[start-1, 0, :, :] + images[end, 0, :, :]) / 2\n",
    "        if outlier_index_405 is not None:\n",
    "            for i in range(outlier_index_405.shape[0]):\n",
    "                start, end = outlier_index_405[i], outlier_index_405[i] +1\n",
    "                images[start:end, 0, :, :] = (images[start-1, 0, :, :] + images[end, 0, :, :]) / 2 # in this case, 470 channel also need to be corrected\n",
    "                images[start:end, 1, :, :] = (images[start-1, 1, :, :] + images[end, 1, :, :]) / 2\n",
    "        images.flush()\n",
    "        print('Outliers frames corrected!')\n",
    "    else:\n",
    "        print('No outliers frames to correct!')\n",
    "\n",
    "    return images"
   ]
  },
  {
   "cell_type": "code",
   "execution_count": 32,
   "id": "67123ea7",
   "metadata": {},
   "outputs": [
    {
     "name": "stdout",
     "output_type": "stream",
     "text": [
      "/home/wrx/Data_WF/WF_WRX/Q39/20240829_saline/7_NatureMovie/process/20240829-172407-wfield/17605_2_380_450_uint16.bin\n"
     ]
    }
   ],
   "source": [
    "bin_path = glob(pjoin(processPath, experiment+\"-wfield\", '*uint16.bin'))[0]\n",
    "print(bin_path)"
   ]
  },
  {
   "cell_type": "code",
   "execution_count": 35,
   "id": "f8e98b63",
   "metadata": {},
   "outputs": [
    {
     "name": "stdout",
     "output_type": "stream",
     "text": [
      "Outliers detected!\n",
      "There are outliers frames need to be corrected!\n",
      "Outliers frames corrected!\n"
     ]
    },
    {
     "data": {
      "image/png": "[encoded data removed]",
      "text/plain": [
       "<Figure size 2000x500 with 1 Axes>"
      ]
     },
     "metadata": {
      "needs_background": "light"
     },
     "output_type": "display_data"
    }
   ],
   "source": [
    "if outlier_index[0].size == 0 and outlier_index[1].size == 0:\n",
    "    print('No outliers detected!')\n",
    "    dat = mmap_dat(bin_path)\n",
    "else:\n",
    "    print('Outliers detected!')\n",
    "    dat = correct_cross_outliers(bin_path, outlier_index_470=outlier_index[0], outlier_index_405=outlier_index[1])\n",
    "\n",
    "    if plot_test:\n",
    "    # to check the mean values of every frame of 470 and 405 channel\n",
    "        mean_470 = np.mean(dat[:, 0, :, :], axis=(1, 2))\n",
    "        mean_405 = np.mean(dat[:, 1, :, :], axis=(1, 2))\n",
    "        fig, ax = plt.subplots(figsize=(20, 5))\n",
    "        ax.plot(mean_405, label='405')\n",
    "        ax.plot(mean_470, label='470')\n",
    "        plt.legend()\n",
    "        plt.show()\n"
   ]
  },
  {
   "cell_type": "code",
   "execution_count": null,
   "id": "cf707a10",
   "metadata": {},
   "outputs": [],
   "source": [
    "start_idx = 500\n",
    "end_idx = 1000\n",
    "concat_dat = np.concatenate((dat[start_idx:end_idx, 0, :, :], dat[start_idx:end_idx, 1, :, :]), axis=2)"
   ]
  },
  {
   "cell_type": "code",
   "execution_count": null,
   "id": "0730e0ac",
   "metadata": {},
   "outputs": [],
   "source": [
    "display_wrapper(concat_dat, cmap='gray', figsize=(15, 7.5))"
   ]
  },
  {
   "cell_type": "code",
   "execution_count": null,
   "id": "538d51fa",
   "metadata": {},
   "outputs": [],
   "source": [
    "# save the concatenated data as tiff file\n",
    "tif_path = pjoin(path_wfield_all[0], 'concatenated.tif')\n",
    "print('saving concatenated tif file:', tif_path)\n",
    "imwrite(tif_path, concat_dat)"
   ]
  },
  {
   "cell_type": "code",
   "execution_count": null,
   "id": "7fd53c54",
   "metadata": {},
   "outputs": [],
   "source": [
    "# if the raw data with no motion, motion_correction may cause \n",
    "from wfield.ncaas import load_and_motion_correct\n",
    "dat_motion_corr = load_and_motion_correct(bin_file)"
   ]
  },
  {
   "cell_type": "code",
   "execution_count": null,
   "id": "0da95aea",
   "metadata": {},
   "outputs": [],
   "source": [
    "from wfield.viz import nb_play_movie"
   ]
  },
  {
   "cell_type": "code",
   "execution_count": null,
   "id": "7127c1a9",
   "metadata": {},
   "outputs": [],
   "source": [
    "display_wrapper(dat_motion_corr[:,1,:,:])"
   ]
  },
  {
   "cell_type": "markdown",
   "id": "acb09557",
   "metadata": {},
   "source": [
    "Computes baseline"
   ]
  },
  {
   "cell_type": "code",
   "execution_count": null,
   "id": "ceb4f7fb",
   "metadata": {},
   "outputs": [],
   "source": [
    "path = path_wfield_all[1]\n",
    "print(path)\n",
    "dat = mmap_dat(glob(pjoin(path, '*uint16.bin'))[0])\n",
    "print(dat.shape)"
   ]
  },
  {
   "cell_type": "code",
   "execution_count": null,
   "id": "c10e6af0",
   "metadata": {},
   "outputs": [],
   "source": [
    "# compare the spontaneous activity of selected frames before and after the stimulus\n",
    "\n",
    "dat_pre = dat[:3000, 0, :, :]\n",
    "dat_post = dat[-3000:, 0, :, :]\n",
    "print(dat_pre.shape, dat_post.shape)\n",
    "dat_pre_std = np.std(dat_pre, axis=0)\n",
    "print(dat_pre_std.shape)\n",
    "dat_post_std = np.std(dat_post, axis=0)\n",
    "print(dat_post_std.shape)\n",
    "dat_post1 = dat[3000:6000, 0, :, :]\n",
    "dat_post2 = dat[6000:9000, 0, :, :]\n",
    "dat_post1_std = np.std(dat_post1, axis=0)\n",
    "dat_post2_std = np.std(dat_post2, axis=0)\n",
    "\n",
    "dat_post1 = dat[3000:6000, 0, :, :]\n",
    "dat_post2 = dat[6000:9000, 0, :, :]\n",
    "dat_post1_std = np.std(dat_post1, axis=0)\n",
    "dat_post2_std = np.std(dat_post2, axis=0)\n",
    "\n",
    "fig, axs = plt.subplots(2, 2, figsize=(15, 10))\n",
    "# vmin = min(dat_pre_std.min(), dat_post_std.min(), dat_post1_std.min(), dat_post2_std.min())\n",
    "# vmax = max(dat_pre_std.max(), dat_post_std.max(), dat_post1_std.max(), dat_post2_std.max())\n",
    "\n",
    "vmin = min(dat_pre_std.min(), dat_post_std.min(), dat_post2_std.min())\n",
    "vmax = max(dat_pre_std.max(), dat_post_std.max(), dat_post2_std.max())\n",
    "\n",
    "cb = axs[0, 0].imshow(dat_pre_std, cmap='hot', vmin=vmin, vmax=vmax)\n",
    "axs[0, 0].set_title('std of pre (0-3000)')\n",
    "axs[0, 0].grid()\n",
    "fig.colorbar(cb, ax=axs[0, 0], shrink=0.5)\n",
    "\n",
    "cb = axs[0, 1].imshow(dat_post1_std, cmap='hot', vmin=vmin, vmax=vmax)\n",
    "axs[0, 1].set_title('std of 3000-6000')\n",
    "axs[0, 1].grid()\n",
    "fig.colorbar(cb, ax=axs[0, 1], shrink=0.5)\n",
    "\n",
    "cb = axs[1, 0].imshow(dat_post2_std, cmap='hot', vmin=vmin, vmax=vmax)\n",
    "axs[1, 0].set_title('std of 6000-9000')\n",
    "axs[1, 0].grid()\n",
    "fig.colorbar(cb, ax=axs[1, 0], shrink=0.5)\n",
    "\n",
    "cb = axs[1, 1].imshow(dat_post_std, cmap='hot', vmin=vmin, vmax=vmax)\n",
    "axs[1, 1].set_title('std of post (-3000:)')\n",
    "axs[1, 1].grid()\n",
    "fig.colorbar(cb, ax=axs[1, 1], shrink=0.5)\n",
    "plt.show()"
   ]
  },
  {
   "cell_type": "code",
   "execution_count": null,
   "id": "dfbfaf41",
   "metadata": {},
   "outputs": [],
   "source": [
    "# # compare the image_base_min and frames_average.npy\n",
    "# frames_average = np.load(pjoin(path, 'frames_average - 副本.npy'))\n",
    "\n",
    "# fig, axs = plt.subplots(1, 2, figsize=(15, 7.5))\n",
    "# cb = axs[0].imshow(image_base_min[0], cmap='hot', aspect='equal')\n",
    "# axs[0].set_title('image_base_min')\n",
    "# axs[0].grid()\n",
    "# fig.colorbar(cb, ax=axs[0], shrink=0.5)\n",
    "# cb = axs[1].imshow(frames_average[0] - image_base_min[0], cmap='hot', aspect='equal')\n",
    "# axs[1].set_title('frames_average')\n",
    "# axs[1].grid()\n",
    "# fig.colorbar(cb, ax=axs[1], shrink=0.5)\n",
    "# plt.show()"
   ]
  },
  {
   "cell_type": "code",
   "execution_count": null,
   "id": "72737656",
   "metadata": {},
   "outputs": [],
   "source": [
    "path = [path for path in path_wfield_all if 'Retinotopy' in path][0]\n",
    "print(path)\n",
    "trials_csv = np.loadtxt(pjoin(path, 'trials.csv'), delimiter=',')\n",
    "print(trials_csv.shape)\n",
    "# trial_onsets = np.load(pjoin(path, 'trial_onsets.npy'))\n",
    "dat = mmap_dat(glob(pjoin(path, '*uint16.bin'))[0])\n",
    "print(dat.shape)\n",
    "\n",
    "# the minimum value of the last 300 frames as the baseline image\n",
    "image_base_min = np.min(dat[-300:, :, :, :], axis=0)\n",
    "np.save(pjoin(path, 'frames_average.npy'), image_base_min)"
   ]
  },
  {
   "cell_type": "code",
   "execution_count": null,
   "id": "c335fee1",
   "metadata": {},
   "outputs": [],
   "source": [
    "if plot_test:\n",
    "\n",
    "    mean_values_470 = dat[:, 0, :, :].mean(axis=(1,2))\n",
    "    mean_values_405 = dat[:, 1, :, :].mean(axis=(1,2))\n",
    "\n",
    "    fig, ax = plt.subplots(figsize=(20, 5))\n",
    "    ax.plot(mean_values_470, label='470', color='r')\n",
    "    ax.plot(mean_values_405, label='405', color='k')\n",
    "    for onset in trials_csv[:, 1]:\n",
    "        ax.axvline(x=onset, color='g', linestyle='--')\n",
    "    ax.set_xlim(0, len(mean_values_405))\n",
    "    # ax.set_xlim(2500, 2800)\n",
    "    ax.axhline(image_base_min.mean(axis=(1,2))[0], color='r', linestyle='--', label='470 baseline')\n",
    "    ax.axhline(image_base_min.mean(axis=(1,2))[1], color='k', linestyle='--', label='405 baseline')\n",
    "    ax.legend()\n",
    "    plt.show()\n",
    "\n",
    "    # x, y = 100, 300 # the coordinates of selected pixels\n",
    "\n",
    "    # fig, ax = plt.subplots(figsize=(20, 5))\n",
    "    # ax.plot(dat[:, 0, x, y], label='470', color='r')\n",
    "    # ax.plot(dat[:, 1, x, y], label='405', color='k')\n",
    "\n",
    "    # for onset in trials_csv[:, 1]:\n",
    "    #     ax.axvline(x=onset, color='g', linestyle='--')\n",
    "\n",
    "    # # ax.set_xlim(2000, 3000)\n",
    "    # ax.legend()\n",
    "    # plt.show()\n",
    "\n",
    "    fig, axs = plt.subplots(1, 2, figsize=(16, 8))\n",
    "    cb = axs[0].imshow(image_base_min[0], cmap='hot', aspect='equal')\n",
    "    axs[0].set_title('baseline frame of 470 channel')\n",
    "    axs[0].grid()\n",
    "    fig.colorbar(cb, ax=axs[0], fraction=0.046, pad=0.04, shrink=0.7)\n",
    "    cb = axs[1].imshow(image_base_min[1], cmap='hot', aspect='equal')\n",
    "    axs[1].set_title('baseline frame of 405 channel')\n",
    "    axs[1].grid()\n",
    "    fig.colorbar(cb, ax=axs[1], fraction=0.046, pad=0.04, shrink=0.7)\n",
    "    plt.show()"
   ]
  },
  {
   "cell_type": "code",
   "execution_count": null,
   "id": "c0b08471",
   "metadata": {},
   "outputs": [],
   "source": [
    "if 'Spontaneous' in path:\n",
    "    # for spontaneous data, the first 100 frames are used to compute the average of all trials\n",
    "    frames_average_trials = dat[:100, :, :, :]\n",
    "else:\n",
    "    trial_onsets = np.load(pjoin(path, 'trial_onsets.npy')).astype(int)\n",
    "    nbaseline_frames = 30\n",
    "    frames_average_trials = frames_average_for_trials(dat,\n",
    "                                            trial_onsets[:,1],\n",
    "                                            nbaseline_frames)\n",
    "    # Compute the average of all trials and save it\n",
    "# np.save(pjoin(path, 'frames_average.npy'), frames_average_trials.mean(axis=0))"
   ]
  },
  {
   "cell_type": "code",
   "execution_count": null,
   "id": "2d3faa04",
   "metadata": {},
   "outputs": [],
   "source": [
    "if 'frames_average_trials' not in locals():\n",
    "    baseline_frame = np.load(pjoin(path_wfield_all[0], 'frames_average.npy'))\n",
    "else:\n",
    "    baseline_frame = frames_average_trials.mean(axis=0)\n",
    "\n",
    "if plot_test:\n",
    "    fig, axs = plt.subplots(1, 2, figsize=(16, 8))\n",
    "    vmin = min(baseline_frame[0].min(), baseline_frame[1].min())\n",
    "    vmax = max(baseline_frame[0].max(), baseline_frame[1].max())\n",
    "    cb = axs[0].imshow(baseline_frame[0], cmap='hot', aspect='equal')\n",
    "    axs[0].set_title('baseline frame of 470 channel')\n",
    "    axs[0].grid()\n",
    "    fig.colorbar(cb, ax=axs[0], fraction=0.046, pad=0.04, shrink=0.7)\n",
    "    cb = axs[1].imshow(baseline_frame[1], cmap='hot', aspect='equal')\n",
    "    axs[1].set_title('baseline frame of 405 channel')\n",
    "    axs[1].grid()\n",
    "    fig.colorbar(cb, ax=axs[1], fraction=0.046, pad=0.04, shrink=0.7)\n",
    "    plt.show()\n"
   ]
  },
  {
   "cell_type": "code",
   "execution_count": null,
   "id": "f7f670f7",
   "metadata": {},
   "outputs": [],
   "source": [
    "start_idx = 0\n",
    "end_idx = 500\n",
    "delt_470 = (dat[start_idx:end_idx, 0, :, :] - baseline_frame[0]) / baseline_frame[0]\n",
    "display_wrapper(delt_470, cmap='gray', figsize=(5, 5))"
   ]
  },
  {
   "cell_type": "code",
   "execution_count": null,
   "id": "27c38fd5",
   "metadata": {},
   "outputs": [],
   "source": [
    "delt_405 = (dat[start_idx:end_idx, 1, :, :] - baseline_frame[1]) / baseline_frame[1]\n",
    "display_wrapper(delt_405, cmap='gray', figsize=(5, 5))"
   ]
  },
  {
   "cell_type": "code",
   "execution_count": null,
   "id": "0d6834c1",
   "metadata": {},
   "outputs": [],
   "source": [
    "corr_470_405 = delt_470 - delt_405\n",
    "display_wrapper(corr_470_405, cmap='gray', figsize=(7.5, 7.5))"
   ]
  },
  {
   "cell_type": "code",
   "execution_count": null,
   "id": "64d127ea",
   "metadata": {},
   "outputs": [],
   "source": [
    "def standardization(data):\n",
    "    stand = data - data.mean() / np.std(data)\n",
    "    return stand\n",
    "\n",
    "def normalization(data):\n",
    "    norm = (data - data.min()) / (data.max() - data.min())\n",
    "    return norm"
   ]
  },
  {
   "cell_type": "code",
   "execution_count": null,
   "id": "6bef16ac",
   "metadata": {},
   "outputs": [],
   "source": [
    "coffers = np.zeros((frames_average_trials.shape[0], frames_average_trials.shape[2], frames_average_trials.shape[3]))\n",
    "combines = np.zeros((frames_average_trials.shape[0], frames_average_trials.shape[2], frames_average_trials.shape[3]*3))\n",
    "for i in range(frames_average_trials.shape[0]):\n",
    "    cof = np.divide(frames_average_trials[i, 0, :, :], frames_average_trials[i, 1, :, :])\n",
    "    coffers[i] = cof\n",
    "\n",
    "    standardized_470 = standardization(frames_average_trials[i, 0, :, :])\n",
    "    standardized_405 = standardization(frames_average_trials[i, 1, :, :])\n",
    "    standardized_cof = standardization(cof)\n",
    "    normalized_470 = normalization(frames_average_trials[i, 0, :, :])\n",
    "    normalized_405 = normalization(frames_average_trials[i, 1, :, :])\n",
    "    normalized_cof = normalization(cof)\n",
    "    # combines[i] = np.concatenate((standardized_470, standardized_405, standardized_cof), axis=1)\n",
    "    combines[i] = np.concatenate((normalized_470, normalized_405, normalized_cof), axis=1)\n",
    "\n",
    "# cof = np.divide(frames_average_trials[i, 0, :, :], frames_average_trials[i, 1, :, :])\n",
    "# plt.imshow(cof, cmap='jet')\n",
    "# plt.colorbar()\n",
    "# plt.show()"
   ]
  },
  {
   "cell_type": "code",
   "execution_count": null,
   "id": "3f9909b7",
   "metadata": {},
   "outputs": [],
   "source": [
    "display_wrapper(coffers, cmap='jet', colorbar=True)"
   ]
  },
  {
   "cell_type": "code",
   "execution_count": null,
   "id": "ee69fb85",
   "metadata": {},
   "outputs": [],
   "source": [
    "display_wrapper(frames_average_trials[:, 0, :, :])"
   ]
  },
  {
   "cell_type": "code",
   "execution_count": null,
   "id": "de879df0",
   "metadata": {},
   "outputs": [],
   "source": [
    "display_wrapper(combines, figsize=(15, 5), cmap='jet')"
   ]
  },
  {
   "cell_type": "markdown",
   "id": "54e55bc9",
   "metadata": {},
   "source": [
    "Approximate single value decomposition"
   ]
  },
  {
   "cell_type": "code",
   "execution_count": null,
   "id": "6ee1ae45",
   "metadata": {},
   "outputs": [],
   "source": [
    "# U, SVT = approximate_svd(dat, frames_average_trials, onsets=trial_onsets[:,2])\n",
    "# U, SVT = approximate_svd(dat, frames_average_trials[-1])\n",
    "# U, SVT = approximate_svd(dat, frames_average_trials.mean(axis=0))\n",
    "U, SVT = approximate_svd(dat, image_base_min)\n",
    "\n",
    "np.save(pjoin(path,'U.npy'),U)\n",
    "# np.save(pjoin(path,'SVT.npy'),SVT)"
   ]
  },
  {
   "cell_type": "markdown",
   "id": "bbfe3445",
   "metadata": {},
   "source": [
    "Hemodynamic correction"
   ]
  },
  {
   "cell_type": "code",
   "execution_count": null,
   "id": "ba2f7e23",
   "metadata": {},
   "outputs": [],
   "source": [
    "path = path_wfield_all[1]\n",
    "print(path)\n",
    "if 'SVT' not in locals():\n",
    "    print('loading SVT.npy...')\n",
    "    SVT = np.load(pjoin(path, 'SVT.npy'))\n",
    "if 'U' not in locals():\n",
    "    print('loading U.npy...')\n",
    "    U = np.load(pjoin(path, 'U.npy'))\n",
    "\n",
    "tstart = time.time()\n",
    "fs = 10\n",
    "freq_highpass = 0.001\n",
    "SVT_470 = SVT[:,0::2]\n",
    "t = np.arange(SVT.shape[1]) # interpolate the violet\n",
    "from scipy.interpolate import interp1d\n",
    "SVT_405 = interp1d(t[1::2], SVT[:,1::2], axis=1,\n",
    "                    fill_value='extrapolate')(t[0::2])\n",
    "# SVTcorr, rcoeffs, T = hemodynamic_correction(U, \n",
    "#                                              SVT_470, \n",
    "#                                              SVT_405, \n",
    "#                                              fs=fs,\n",
    "#                                              freq_highpass=freq_highpass,\n",
    "#                                              freq_lowpass=10)  \n",
    "\n",
    "print('Done hemodynamic correction in {0} s '.format(time.time()-tstart))\n",
    "SVTcorr = SVT_470 - SVT_405\n",
    "\n",
    "# np.save(pjoin(path,'rcoeffs.npy'), rcoeffs)\n",
    "# np.save(pjoin(path,'T.npy'),T)\n",
    "np.save(pjoin(path,'SVTcorr.npy'), SVTcorr)"
   ]
  },
  {
   "cell_type": "code",
   "execution_count": null,
   "id": "4df867e6",
   "metadata": {},
   "outputs": [],
   "source": [
    "if 'SVTcorr' not in locals():\n",
    "    SVTcorr = np.load(pjoin(path, 'SVTcorr.npy'))"
   ]
  },
  {
   "cell_type": "code",
   "execution_count": null,
   "id": "c5406ef9",
   "metadata": {},
   "outputs": [],
   "source": [
    "# compare the correct method\n",
    "correct_compare = np.concatenate((corr_470_405, _d), axis=2)\n",
    "display_wrapper(correct_compare, figsize=(15, 7.5))\n",
    "# save the correct_compare as tiff file\n",
    "# tif_path = pjoin(path_wfield_all[0], 'correct_compare.tif')\n",
    "# print('saving correct_compare tif file:', tif_path)\n",
    "# imwrite(tif_path, correct_compare.astype(np.float32))"
   ]
  },
  {
   "cell_type": "code",
   "execution_count": null,
   "id": "d473fba5",
   "metadata": {},
   "outputs": [],
   "source": [
    "# for path_wfield in [path_wfield_all[0]]:\n",
    "#     if len(glob(pjoin(path_wfield, '*-merged.tif'))) == 0:\n",
    "#         print(path_wfield,\"can't find merged tiff file！\\n\")\n",
    "#     elif len(glob(pjoin(path_wfield, '*-merged.tif'))) > 1:\n",
    "#         print(path_wfield,\"exist multiple merged tiff file！\\n\")\n",
    "#     elif os.path.exists(pjoin(path_wfield, 'SVTcorr.npy')):\n",
    "#         print(path_wfield,'analysis has been finished！\\n')\n",
    "#     else:\n",
    "#         print('Start analyze',path_wfield)\n",
    "#         if 'natural-movie' or 'speed' in path_wfield:\n",
    "#             nbaseline_frames = 100\n",
    "#         else:\n",
    "#             nbaseline_frames = 30\n",
    "#         command = \"wfield preprocess --nchannels 2 --nbaseline-frames {} --functional-channel 0 --fs 10 -o {} {}\".format(nbaseline_frames,path_wfield,path_wfield)\n",
    "#         logfile = pjoin(path_wfield, 'log.txt')\n",
    "#         with open(logfile, \"w\") as log:\n",
    "#             result = subprocess.run(command, shell=True, stdout=subprocess.PIPE, stderr=subprocess.STDOUT, text=True)\n",
    "#             log.write(result.stdout)\n",
    "#         if result.returncode == 0:\n",
    "#             print('Finish analyzing',path_wfield,'\\n')\n",
    "#         else:\n",
    "#             print('！！！Error occured when analyzing',path_wfield,'\\n')\n",
    "        \n",
    "# print('\\nMotion correction, single value decomposition, hemodynamic correction. All finished!')"
   ]
  },
  {
   "cell_type": "markdown",
   "id": "289230be",
   "metadata": {},
   "source": [
    "PhaseMap"
   ]
  },
  {
   "cell_type": "code",
   "execution_count": null,
   "id": "7b841c7a",
   "metadata": {},
   "outputs": [],
   "source": [
    "# using phasemap.ipynb"
   ]
  },
  {
   "cell_type": "markdown",
   "id": "853e98ab",
   "metadata": {},
   "source": [
    "Plot HVA"
   ]
  },
  {
   "cell_type": "markdown",
   "id": "b770c8e4",
   "metadata": {},
   "source": [
    "To launch the GUI to explore processed data do: `wfield open <FOLDER>`\n",
    "`wfield open /home/wrx/Data_WF/WF_WRX/Q39/20240829_saline/2_Retinotopy/process/20240829-163749-wfield`"
   ]
  },
  {
   "cell_type": "code",
   "execution_count": null,
   "id": "9d62dc7d",
   "metadata": {},
   "outputs": [],
   "source": [
    "# using plot_HVA.ipynb\n",
    "# using match_dorsal_cortex_to_allen.ipynb to match the dorsal cortex to allen atlas"
   ]
  },
  {
   "cell_type": "markdown",
   "id": "66962cc0",
   "metadata": {},
   "source": [
    "Extract Trace"
   ]
  },
  {
   "cell_type": "code",
   "execution_count": null,
   "id": "9ebdefa8",
   "metadata": {},
   "outputs": [],
   "source": [
    "import NeuroAnalysisTools.core.FileTools as ft"
   ]
  },
  {
   "cell_type": "code",
   "execution_count": null,
   "id": "3133c605",
   "metadata": {},
   "outputs": [],
   "source": [
    "# pjoin(path_wfield_all[0],'retinotopy_out.pkl')\n",
    "path = '/home/wrx/Data_WF/WF_WRX/P42/20240726/saline/1_Retinotopy/process/20240726-154732-retinotopy/retinotopy_out.pkl'\n",
    "pkl_dict = ft.loadFile(path)\n",
    "print(pkl_dict.keys())\n",
    "print(pkl_dict['finalPatchesMarked'].keys())\n",
    "type(pkl_dict['finalPatchesMarked']['V1'])\n",
    "pkl_dict['finalPatchesMarked']['V1'].array\n",
    "pkl_dict['finalPatchesMarked']['V1'].getMask()"
   ]
  },
  {
   "cell_type": "code",
   "execution_count": null,
   "id": "59f74cb3",
   "metadata": {},
   "outputs": [],
   "source": [
    "U.shape[:2]"
   ]
  },
  {
   "cell_type": "code",
   "execution_count": null,
   "id": "9c92a3e8",
   "metadata": {},
   "outputs": [],
   "source": [
    "from wfield_utils import reconstruct\n",
    "mov = reconstruct(U,SVTcorr).reshape(SVTcorr.shape[1], *U.shape[:2])\n",
    "print(mov.shape)"
   ]
  },
  {
   "cell_type": "code",
   "execution_count": null,
   "id": "ada5956f",
   "metadata": {},
   "outputs": [],
   "source": [
    "trace = pkl_dict['finalPatchesMarked']['V1'].getTrace(mov=mov)\n",
    "print(trace.shape)"
   ]
  },
  {
   "cell_type": "code",
   "execution_count": null,
   "id": "f0f0b38c",
   "metadata": {},
   "outputs": [],
   "source": [
    "fig, ax = plt.subplots(figsize=(20, 5))\n",
    "ax.plot(trace)\n",
    "# ax.set_xlim(0, 1000)\n",
    "plt.show()"
   ]
  }
 ],
 "metadata": {
  "kernelspec": {
   "display_name": "wfield",
   "language": "python",
   "name": "python3"
  },
  "language_info": {
   "codemirror_mode": {
    "name": "ipython",
    "version": 3
   },
   "file_extension": ".py",
   "mimetype": "text/x-python",
   "name": "python",
   "nbconvert_exporter": "python",
   "pygments_lexer": "ipython3",
   "version": "3.11.9"
  }
 },
 "nbformat": 4,
 "nbformat_minor": 5
}
